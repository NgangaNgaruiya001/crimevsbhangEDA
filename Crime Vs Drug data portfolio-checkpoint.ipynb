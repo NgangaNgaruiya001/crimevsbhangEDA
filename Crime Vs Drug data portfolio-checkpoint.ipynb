{
 "cells": [
  {
   "cell_type": "markdown",
   "id": "3bf22076",
   "metadata": {},
   "source": [
    "# A RESEARCH TO INVESTIGATE WHETHER THERE IS A RELATIONSHIP AND INFLUENCE OF BHANG POSSESSION CASES TO CRIME CASES"
   ]
  },
  {
   "cell_type": "markdown",
   "id": "ef617fc2",
   "metadata": {},
   "source": [
    "This study was done by Nganga Ngaruiya. It was undertaken in order to research whether there is a relationship and influence of bhang possesion charges to the total crimes cases in Kenya.       \n",
    "The information collected also shed some light on the counties with the highest crime rate and bhang possession charges per square area and per population size.    \n",
    "The packages used are\n",
    "- Pandas\n",
    "- Matplotlib\n",
    "- Numpy\n",
    "- Seaborn\n",
    "- Scikit-learn\n",
    "\n",
    "\n",
    "I collected data from wikipedia and the Kenya Police website crime statistics.    \n",
    "I Cleaned them and merged them together to form a singular data frame droping all the unecessary columns and rows.   \n",
    "I then proceded to making new relevant columns that help me calculate rates which I used to answer the research objectives, which were:\n",
    "- Find out the county with the highest crime rates (per 10000 people and per 10km2) and also for the crimes we are interested in, in this research\n",
    "- The distribution of Bhang possesion charges per 10000 people and per 10km2\n",
    "- Correlation between bhang and crime rates (per 10000 people and per 10km2) and also for the crimes we are interested in, in this research\n",
    "- Check the influence of bhang to crime rates\n",
    "\n",
    "I used 2020 data since the 2019 data did not have the drugs data seperated countywise\n"
   ]
  },
  {
   "cell_type": "markdown",
   "id": "a2397663",
   "metadata": {},
   "source": [
    "## Data Wrangling - Collection, Cleaning and transformation"
   ]
  },
  {
   "cell_type": "markdown",
   "id": "4208b0be",
   "metadata": {},
   "source": [
    "### Packages"
   ]
  },
  {
   "cell_type": "code",
   "execution_count": 483,
   "id": "82f721fc",
   "metadata": {},
   "outputs": [],
   "source": [
    "import pandas as pd\n",
    "import seaborn as sns\n",
    "import numpy as np\n",
    "import matplotlib.pyplot as plt\n",
    "from sklearn import linear_model\n",
    "%matplotlib inline"
   ]
  },
  {
   "cell_type": "markdown",
   "id": "eaa98362",
   "metadata": {},
   "source": [
    "### Scrapping County Population Data from Wikipidea"
   ]
  },
  {
   "cell_type": "code",
   "execution_count": 299,
   "id": "3d99fdee",
   "metadata": {},
   "outputs": [],
   "source": [
    "data = pd.read_html('https://en.wikipedia.org/wiki/Counties_of_Kenya')"
   ]
  },
  {
   "cell_type": "markdown",
   "id": "69cf9e43",
   "metadata": {},
   "source": [
    "Since the read_html funtionality in pandas scraps all the dataframes in the website and stores them in a list of Data Frames,\n",
    " go went through all the data frames to identify the one with the County Population data."
   ]
  },
  {
   "cell_type": "code",
   "execution_count": 300,
   "id": "9aed0511",
   "metadata": {},
   "outputs": [
    {
     "data": {
      "text/html": [
       "<div>\n",
       "<style scoped>\n",
       "    .dataframe tbody tr th:only-of-type {\n",
       "        vertical-align: middle;\n",
       "    }\n",
       "\n",
       "    .dataframe tbody tr th {\n",
       "        vertical-align: top;\n",
       "    }\n",
       "\n",
       "    .dataframe thead th {\n",
       "        text-align: right;\n",
       "    }\n",
       "</style>\n",
       "<table border=\"1\" class=\"dataframe\">\n",
       "  <thead>\n",
       "    <tr style=\"text-align: right;\">\n",
       "      <th></th>\n",
       "      <th>Counties of KenyaKaunti za Kenya (Swahili)</th>\n",
       "      <th>Counties of KenyaKaunti za Kenya (Swahili).1</th>\n",
       "    </tr>\n",
       "  </thead>\n",
       "  <tbody>\n",
       "    <tr>\n",
       "      <th>0</th>\n",
       "      <td>NaN</td>\n",
       "      <td>NaN</td>\n",
       "    </tr>\n",
       "    <tr>\n",
       "      <th>1</th>\n",
       "      <td>Category</td>\n",
       "      <td>Semi-devolved state</td>\n",
       "    </tr>\n",
       "  </tbody>\n",
       "</table>\n",
       "</div>"
      ],
      "text/plain": [
       "  Counties of KenyaKaunti za Kenya (Swahili)  \\\n",
       "0                                        NaN   \n",
       "1                                   Category   \n",
       "\n",
       "  Counties of KenyaKaunti za Kenya (Swahili).1  \n",
       "0                                          NaN  \n",
       "1                          Semi-devolved state  "
      ]
     },
     "execution_count": 300,
     "metadata": {},
     "output_type": "execute_result"
    }
   ],
   "source": [
    "data[0].head(2)"
   ]
  },
  {
   "cell_type": "code",
   "execution_count": 301,
   "id": "19044df2",
   "metadata": {},
   "outputs": [
    {
     "data": {
      "text/html": [
       "<div>\n",
       "<style scoped>\n",
       "    .dataframe tbody tr th:only-of-type {\n",
       "        vertical-align: middle;\n",
       "    }\n",
       "\n",
       "    .dataframe tbody tr th {\n",
       "        vertical-align: top;\n",
       "    }\n",
       "\n",
       "    .dataframe thead th {\n",
       "        text-align: right;\n",
       "    }\n",
       "</style>\n",
       "<table border=\"1\" class=\"dataframe\">\n",
       "  <thead>\n",
       "    <tr style=\"text-align: right;\">\n",
       "      <th></th>\n",
       "      <th>Politics of Kenya</th>\n",
       "    </tr>\n",
       "  </thead>\n",
       "  <tbody>\n",
       "    <tr>\n",
       "      <th>0</th>\n",
       "      <td>National Government Constitution History Human...</td>\n",
       "    </tr>\n",
       "    <tr>\n",
       "      <th>1</th>\n",
       "      <td>Executive President (list) Uhuru Kenyatta Depu...</td>\n",
       "    </tr>\n",
       "  </tbody>\n",
       "</table>\n",
       "</div>"
      ],
      "text/plain": [
       "                                   Politics of Kenya\n",
       "0  National Government Constitution History Human...\n",
       "1  Executive President (list) Uhuru Kenyatta Depu..."
      ]
     },
     "execution_count": 301,
     "metadata": {},
     "output_type": "execute_result"
    }
   ],
   "source": [
    "data[1].head(2)"
   ]
  },
  {
   "cell_type": "code",
   "execution_count": 302,
   "id": "7f009309",
   "metadata": {},
   "outputs": [
    {
     "data": {
      "text/html": [
       "<div>\n",
       "<style scoped>\n",
       "    .dataframe tbody tr th:only-of-type {\n",
       "        vertical-align: middle;\n",
       "    }\n",
       "\n",
       "    .dataframe tbody tr th {\n",
       "        vertical-align: top;\n",
       "    }\n",
       "\n",
       "    .dataframe thead th {\n",
       "        text-align: right;\n",
       "    }\n",
       "</style>\n",
       "<table border=\"1\" class=\"dataframe\">\n",
       "  <thead>\n",
       "    <tr style=\"text-align: right;\">\n",
       "      <th></th>\n",
       "      <th>Code</th>\n",
       "      <th>County</th>\n",
       "      <th>FormerProvince</th>\n",
       "      <th>Area(km2)</th>\n",
       "      <th>Population(2009 Census)</th>\n",
       "      <th>Population(2019 Census)</th>\n",
       "      <th>Capital</th>\n",
       "    </tr>\n",
       "  </thead>\n",
       "  <tbody>\n",
       "    <tr>\n",
       "      <th>0</th>\n",
       "      <td>1.0</td>\n",
       "      <td>Mombasa (County)</td>\n",
       "      <td>Coast</td>\n",
       "      <td>212.5</td>\n",
       "      <td>939370</td>\n",
       "      <td>1208333</td>\n",
       "      <td>Mombasa (City)</td>\n",
       "    </tr>\n",
       "    <tr>\n",
       "      <th>1</th>\n",
       "      <td>2.0</td>\n",
       "      <td>Kwale</td>\n",
       "      <td>Coast</td>\n",
       "      <td>8270.3</td>\n",
       "      <td>649931</td>\n",
       "      <td>866820</td>\n",
       "      <td>Kwale</td>\n",
       "    </tr>\n",
       "  </tbody>\n",
       "</table>\n",
       "</div>"
      ],
      "text/plain": [
       "   Code            County FormerProvince  Area(km2)  Population(2009 Census)  \\\n",
       "0   1.0  Mombasa (County)          Coast      212.5                   939370   \n",
       "1   2.0             Kwale          Coast     8270.3                   649931   \n",
       "\n",
       "   Population(2019 Census)         Capital  \n",
       "0                  1208333  Mombasa (City)  \n",
       "1                   866820           Kwale  "
      ]
     },
     "execution_count": 302,
     "metadata": {},
     "output_type": "execute_result"
    }
   ],
   "source": [
    "#This is the Data Frame needed\n",
    "\n",
    "data[2].head(2)"
   ]
  },
  {
   "cell_type": "code",
   "execution_count": 303,
   "id": "d41e6b8f",
   "metadata": {},
   "outputs": [],
   "source": [
    "#Store the data frame as a new variable\n",
    "\n",
    "county_data = data[2]"
   ]
  },
  {
   "cell_type": "code",
   "execution_count": 304,
   "id": "90fff024",
   "metadata": {},
   "outputs": [
    {
     "data": {
      "text/html": [
       "<div>\n",
       "<style scoped>\n",
       "    .dataframe tbody tr th:only-of-type {\n",
       "        vertical-align: middle;\n",
       "    }\n",
       "\n",
       "    .dataframe tbody tr th {\n",
       "        vertical-align: top;\n",
       "    }\n",
       "\n",
       "    .dataframe thead th {\n",
       "        text-align: right;\n",
       "    }\n",
       "</style>\n",
       "<table border=\"1\" class=\"dataframe\">\n",
       "  <thead>\n",
       "    <tr style=\"text-align: right;\">\n",
       "      <th></th>\n",
       "      <th>Code</th>\n",
       "      <th>County</th>\n",
       "      <th>FormerProvince</th>\n",
       "      <th>Area(km2)</th>\n",
       "      <th>Population(2009 Census)</th>\n",
       "      <th>Population(2019 Census)</th>\n",
       "      <th>Capital</th>\n",
       "    </tr>\n",
       "  </thead>\n",
       "  <tbody>\n",
       "    <tr>\n",
       "      <th>44</th>\n",
       "      <td>45.0</td>\n",
       "      <td>Kisii</td>\n",
       "      <td>Nyanza</td>\n",
       "      <td>1317.9</td>\n",
       "      <td>1152282</td>\n",
       "      <td>1266860</td>\n",
       "      <td>Kisii</td>\n",
       "    </tr>\n",
       "    <tr>\n",
       "      <th>45</th>\n",
       "      <td>46.0</td>\n",
       "      <td>Nyamira</td>\n",
       "      <td>Nyanza</td>\n",
       "      <td>912.5</td>\n",
       "      <td>598252</td>\n",
       "      <td>605576</td>\n",
       "      <td>Nyamira</td>\n",
       "    </tr>\n",
       "    <tr>\n",
       "      <th>46</th>\n",
       "      <td>47.0</td>\n",
       "      <td>Nairobi (County)</td>\n",
       "      <td>Nairobi (Province)</td>\n",
       "      <td>694.9</td>\n",
       "      <td>3138369</td>\n",
       "      <td>4397073</td>\n",
       "      <td>Nairobi (City)</td>\n",
       "    </tr>\n",
       "    <tr>\n",
       "      <th>47</th>\n",
       "      <td>NaN</td>\n",
       "      <td>NaN</td>\n",
       "      <td>NaN</td>\n",
       "      <td>581309.0</td>\n",
       "      <td>38610997</td>\n",
       "      <td>47564296</td>\n",
       "      <td>Nairobi</td>\n",
       "    </tr>\n",
       "  </tbody>\n",
       "</table>\n",
       "</div>"
      ],
      "text/plain": [
       "    Code            County      FormerProvince  Area(km2)  \\\n",
       "44  45.0             Kisii              Nyanza     1317.9   \n",
       "45  46.0           Nyamira              Nyanza      912.5   \n",
       "46  47.0  Nairobi (County)  Nairobi (Province)      694.9   \n",
       "47   NaN               NaN                 NaN   581309.0   \n",
       "\n",
       "    Population(2009 Census)  Population(2019 Census)         Capital  \n",
       "44                  1152282                  1266860           Kisii  \n",
       "45                   598252                   605576         Nyamira  \n",
       "46                  3138369                  4397073  Nairobi (City)  \n",
       "47                 38610997                 47564296         Nairobi  "
      ]
     },
     "execution_count": 304,
     "metadata": {},
     "output_type": "execute_result"
    }
   ],
   "source": [
    "county_data[44:]"
   ]
  },
  {
   "cell_type": "markdown",
   "id": "e0fa0649",
   "metadata": {},
   "source": [
    "Index 47 is not important so it is droped"
   ]
  },
  {
   "cell_type": "code",
   "execution_count": 134,
   "id": "98404204",
   "metadata": {},
   "outputs": [],
   "source": [
    "county_data.drop(47, inplace=True)"
   ]
  },
  {
   "cell_type": "code",
   "execution_count": 135,
   "id": "a98f56ed",
   "metadata": {},
   "outputs": [
    {
     "data": {
      "text/html": [
       "<div>\n",
       "<style scoped>\n",
       "    .dataframe tbody tr th:only-of-type {\n",
       "        vertical-align: middle;\n",
       "    }\n",
       "\n",
       "    .dataframe tbody tr th {\n",
       "        vertical-align: top;\n",
       "    }\n",
       "\n",
       "    .dataframe thead th {\n",
       "        text-align: right;\n",
       "    }\n",
       "</style>\n",
       "<table border=\"1\" class=\"dataframe\">\n",
       "  <thead>\n",
       "    <tr style=\"text-align: right;\">\n",
       "      <th></th>\n",
       "      <th>Code</th>\n",
       "      <th>County</th>\n",
       "      <th>FormerProvince</th>\n",
       "      <th>Area(km2)</th>\n",
       "      <th>Population(2009 Census)</th>\n",
       "      <th>Population(2019 Census)</th>\n",
       "      <th>Capital</th>\n",
       "    </tr>\n",
       "  </thead>\n",
       "  <tbody>\n",
       "    <tr>\n",
       "      <th>44</th>\n",
       "      <td>45.0</td>\n",
       "      <td>Kisii</td>\n",
       "      <td>Nyanza</td>\n",
       "      <td>1317.9</td>\n",
       "      <td>1152282</td>\n",
       "      <td>1266860</td>\n",
       "      <td>Kisii</td>\n",
       "    </tr>\n",
       "    <tr>\n",
       "      <th>45</th>\n",
       "      <td>46.0</td>\n",
       "      <td>Nyamira</td>\n",
       "      <td>Nyanza</td>\n",
       "      <td>912.5</td>\n",
       "      <td>598252</td>\n",
       "      <td>605576</td>\n",
       "      <td>Nyamira</td>\n",
       "    </tr>\n",
       "    <tr>\n",
       "      <th>46</th>\n",
       "      <td>47.0</td>\n",
       "      <td>Nairobi (County)</td>\n",
       "      <td>Nairobi (Province)</td>\n",
       "      <td>694.9</td>\n",
       "      <td>3138369</td>\n",
       "      <td>4397073</td>\n",
       "      <td>Nairobi (City)</td>\n",
       "    </tr>\n",
       "  </tbody>\n",
       "</table>\n",
       "</div>"
      ],
      "text/plain": [
       "    Code            County      FormerProvince  Area(km2)  \\\n",
       "44  45.0             Kisii              Nyanza     1317.9   \n",
       "45  46.0           Nyamira              Nyanza      912.5   \n",
       "46  47.0  Nairobi (County)  Nairobi (Province)      694.9   \n",
       "\n",
       "    Population(2009 Census)  Population(2019 Census)         Capital  \n",
       "44                  1152282                  1266860           Kisii  \n",
       "45                   598252                   605576         Nyamira  \n",
       "46                  3138369                  4397073  Nairobi (City)  "
      ]
     },
     "execution_count": 135,
     "metadata": {},
     "output_type": "execute_result"
    }
   ],
   "source": [
    "county_data[44:]"
   ]
  },
  {
   "cell_type": "markdown",
   "id": "3b7cdedf",
   "metadata": {},
   "source": [
    "Now we have the county data on population and area occupied, we also drop all the unnecesary columns\n",
    "Population(2009 Census), FormerProvince and Capital"
   ]
  },
  {
   "cell_type": "code",
   "execution_count": 136,
   "id": "5b7f97fd",
   "metadata": {},
   "outputs": [],
   "source": [
    "county_data.drop(['Population(2009 Census)', 'FormerProvince', 'Capital'], axis=1, inplace=True)"
   ]
  },
  {
   "cell_type": "code",
   "execution_count": 137,
   "id": "7e33d163",
   "metadata": {},
   "outputs": [
    {
     "data": {
      "text/html": [
       "<div>\n",
       "<style scoped>\n",
       "    .dataframe tbody tr th:only-of-type {\n",
       "        vertical-align: middle;\n",
       "    }\n",
       "\n",
       "    .dataframe tbody tr th {\n",
       "        vertical-align: top;\n",
       "    }\n",
       "\n",
       "    .dataframe thead th {\n",
       "        text-align: right;\n",
       "    }\n",
       "</style>\n",
       "<table border=\"1\" class=\"dataframe\">\n",
       "  <thead>\n",
       "    <tr style=\"text-align: right;\">\n",
       "      <th></th>\n",
       "      <th>Code</th>\n",
       "      <th>County</th>\n",
       "      <th>Area(km2)</th>\n",
       "      <th>Population(2019 Census)</th>\n",
       "    </tr>\n",
       "  </thead>\n",
       "  <tbody>\n",
       "    <tr>\n",
       "      <th>0</th>\n",
       "      <td>1.0</td>\n",
       "      <td>Mombasa (County)</td>\n",
       "      <td>212.5</td>\n",
       "      <td>1208333</td>\n",
       "    </tr>\n",
       "    <tr>\n",
       "      <th>1</th>\n",
       "      <td>2.0</td>\n",
       "      <td>Kwale</td>\n",
       "      <td>8270.3</td>\n",
       "      <td>866820</td>\n",
       "    </tr>\n",
       "    <tr>\n",
       "      <th>2</th>\n",
       "      <td>3.0</td>\n",
       "      <td>Kilifi</td>\n",
       "      <td>12245.9</td>\n",
       "      <td>1453787</td>\n",
       "    </tr>\n",
       "    <tr>\n",
       "      <th>3</th>\n",
       "      <td>4.0</td>\n",
       "      <td>Tana River</td>\n",
       "      <td>35375.8</td>\n",
       "      <td>315943</td>\n",
       "    </tr>\n",
       "    <tr>\n",
       "      <th>4</th>\n",
       "      <td>5.0</td>\n",
       "      <td>Lamu</td>\n",
       "      <td>6497.7</td>\n",
       "      <td>143920</td>\n",
       "    </tr>\n",
       "  </tbody>\n",
       "</table>\n",
       "</div>"
      ],
      "text/plain": [
       "   Code            County  Area(km2)  Population(2019 Census)\n",
       "0   1.0  Mombasa (County)      212.5                  1208333\n",
       "1   2.0             Kwale     8270.3                   866820\n",
       "2   3.0            Kilifi    12245.9                  1453787\n",
       "3   4.0        Tana River    35375.8                   315943\n",
       "4   5.0              Lamu     6497.7                   143920"
      ]
     },
     "execution_count": 137,
     "metadata": {},
     "output_type": "execute_result"
    }
   ],
   "source": [
    "county_data.head()"
   ]
  },
  {
   "cell_type": "code",
   "execution_count": null,
   "id": "4b1e8ef6",
   "metadata": {},
   "outputs": [],
   "source": [
    "#Save the data to an excel file called county_crime_research.xlsx\n",
    "\n",
    "county_data.to_excel('county_crime_research.xlsx', sheet_name=('county_data'))"
   ]
  },
  {
   "cell_type": "markdown",
   "id": "ca0085ed",
   "metadata": {},
   "source": [
    "### Merging the county Population and area data to the Crime Data and Drugs data"
   ]
  },
  {
   "cell_type": "markdown",
   "id": "5c38db83",
   "metadata": {},
   "source": [
    "- The crime and drugs data were obtained from the [Crime statistics report on the Kenya National police wesite](https://www.nationalpolice.go.ke/crime-statistics.html#).\n",
    "- It was in PDF format and the data had to converted to an excel file on [this site](https://www.ilovepdf.com/pdf_to_excel)\n",
    "- All the neccesary extracted tables were cleaned and stored in new sheets inside the county_crime_research.xlsx file that was created above\n",
    "- The sheets were names crime_data for the crime data and drug_data for the drugs data.\n",
    "- All the cleaning procedures were done inside excel (The video of me doing this will be on my [YouTube]() Video on this project)"
   ]
  },
  {
   "cell_type": "code",
   "execution_count": 309,
   "id": "408c3828",
   "metadata": {},
   "outputs": [],
   "source": [
    "#Then save the crime data frame to a seperate variable\n",
    "\n",
    "crime_data = pd.read_excel('county_crime_research.xlsx', sheet_name='crime_data')"
   ]
  },
  {
   "cell_type": "code",
   "execution_count": 310,
   "id": "22ee6a45",
   "metadata": {},
   "outputs": [
    {
     "data": {
      "text/html": [
       "<div>\n",
       "<style scoped>\n",
       "    .dataframe tbody tr th:only-of-type {\n",
       "        vertical-align: middle;\n",
       "    }\n",
       "\n",
       "    .dataframe tbody tr th {\n",
       "        vertical-align: top;\n",
       "    }\n",
       "\n",
       "    .dataframe thead th {\n",
       "        text-align: right;\n",
       "    }\n",
       "</style>\n",
       "<table border=\"1\" class=\"dataframe\">\n",
       "  <thead>\n",
       "    <tr style=\"text-align: right;\">\n",
       "      <th></th>\n",
       "      <th>(COUNTIES)</th>\n",
       "      <th>HOMICIDE</th>\n",
       "      <th>OFFENCES AGAINST MORALITY</th>\n",
       "      <th>OTHER OFFENCES AGAINST PERSONS</th>\n",
       "      <th>ROBBERY</th>\n",
       "      <th>BREAKINGS</th>\n",
       "      <th>THEFT OF STOCK</th>\n",
       "      <th>STEALING</th>\n",
       "      <th>THEFT BY SERVANT</th>\n",
       "      <th>VEHICLE AND OTHER THEFTS</th>\n",
       "      <th>DANGEROUS DRUGS</th>\n",
       "      <th>TRAFFIC OFFENCES</th>\n",
       "      <th>CRIMINAL DAMAGE</th>\n",
       "      <th>ECONOMIC CRIMES</th>\n",
       "      <th>CORRUPTION</th>\n",
       "      <th>OFFENCES INVOLVING POLICE OFFICERS</th>\n",
       "      <th>OFFENCES  INVOLVING TOURIST</th>\n",
       "      <th>OTHER PENAL CODE OFFENCES</th>\n",
       "      <th>GRAND TOTAL CRIME</th>\n",
       "    </tr>\n",
       "  </thead>\n",
       "  <tbody>\n",
       "    <tr>\n",
       "      <th>0</th>\n",
       "      <td>Mombasa (County)</td>\n",
       "      <td>25</td>\n",
       "      <td>280</td>\n",
       "      <td>348</td>\n",
       "      <td>85</td>\n",
       "      <td>119</td>\n",
       "      <td>4</td>\n",
       "      <td>460</td>\n",
       "      <td>64</td>\n",
       "      <td>51</td>\n",
       "      <td>269</td>\n",
       "      <td>42</td>\n",
       "      <td>79</td>\n",
       "      <td>180</td>\n",
       "      <td>4</td>\n",
       "      <td>0</td>\n",
       "      <td>1</td>\n",
       "      <td>220</td>\n",
       "      <td>2231</td>\n",
       "    </tr>\n",
       "    <tr>\n",
       "      <th>1</th>\n",
       "      <td>Kwale</td>\n",
       "      <td>52</td>\n",
       "      <td>230</td>\n",
       "      <td>243</td>\n",
       "      <td>17</td>\n",
       "      <td>44</td>\n",
       "      <td>26</td>\n",
       "      <td>101</td>\n",
       "      <td>16</td>\n",
       "      <td>11</td>\n",
       "      <td>23</td>\n",
       "      <td>0</td>\n",
       "      <td>44</td>\n",
       "      <td>23</td>\n",
       "      <td>0</td>\n",
       "      <td>0</td>\n",
       "      <td>2</td>\n",
       "      <td>78</td>\n",
       "      <td>910</td>\n",
       "    </tr>\n",
       "    <tr>\n",
       "      <th>2</th>\n",
       "      <td>Kilifi</td>\n",
       "      <td>124</td>\n",
       "      <td>328</td>\n",
       "      <td>356</td>\n",
       "      <td>25</td>\n",
       "      <td>95</td>\n",
       "      <td>28</td>\n",
       "      <td>243</td>\n",
       "      <td>37</td>\n",
       "      <td>17</td>\n",
       "      <td>81</td>\n",
       "      <td>8</td>\n",
       "      <td>86</td>\n",
       "      <td>106</td>\n",
       "      <td>1</td>\n",
       "      <td>0</td>\n",
       "      <td>0</td>\n",
       "      <td>263</td>\n",
       "      <td>1798</td>\n",
       "    </tr>\n",
       "    <tr>\n",
       "      <th>3</th>\n",
       "      <td>Tana River</td>\n",
       "      <td>11</td>\n",
       "      <td>72</td>\n",
       "      <td>129</td>\n",
       "      <td>7</td>\n",
       "      <td>25</td>\n",
       "      <td>18</td>\n",
       "      <td>43</td>\n",
       "      <td>7</td>\n",
       "      <td>5</td>\n",
       "      <td>19</td>\n",
       "      <td>0</td>\n",
       "      <td>20</td>\n",
       "      <td>6</td>\n",
       "      <td>0</td>\n",
       "      <td>1</td>\n",
       "      <td>0</td>\n",
       "      <td>33</td>\n",
       "      <td>396</td>\n",
       "    </tr>\n",
       "    <tr>\n",
       "      <th>4</th>\n",
       "      <td>Lamu</td>\n",
       "      <td>9</td>\n",
       "      <td>64</td>\n",
       "      <td>103</td>\n",
       "      <td>14</td>\n",
       "      <td>27</td>\n",
       "      <td>13</td>\n",
       "      <td>44</td>\n",
       "      <td>2</td>\n",
       "      <td>2</td>\n",
       "      <td>36</td>\n",
       "      <td>0</td>\n",
       "      <td>15</td>\n",
       "      <td>7</td>\n",
       "      <td>0</td>\n",
       "      <td>4</td>\n",
       "      <td>0</td>\n",
       "      <td>40</td>\n",
       "      <td>380</td>\n",
       "    </tr>\n",
       "  </tbody>\n",
       "</table>\n",
       "</div>"
      ],
      "text/plain": [
       "         (COUNTIES)  HOMICIDE  OFFENCES AGAINST MORALITY  \\\n",
       "0  Mombasa (County)        25                        280   \n",
       "1             Kwale        52                        230   \n",
       "2            Kilifi       124                        328   \n",
       "3        Tana River        11                         72   \n",
       "4              Lamu         9                         64   \n",
       "\n",
       "   OTHER OFFENCES AGAINST PERSONS  ROBBERY  BREAKINGS  THEFT OF STOCK  \\\n",
       "0                             348       85        119               4   \n",
       "1                             243       17         44              26   \n",
       "2                             356       25         95              28   \n",
       "3                             129        7         25              18   \n",
       "4                             103       14         27              13   \n",
       "\n",
       "   STEALING  THEFT BY SERVANT  VEHICLE AND OTHER THEFTS  DANGEROUS DRUGS  \\\n",
       "0       460                64                        51              269   \n",
       "1       101                16                        11               23   \n",
       "2       243                37                        17               81   \n",
       "3        43                 7                         5               19   \n",
       "4        44                 2                         2               36   \n",
       "\n",
       "   TRAFFIC OFFENCES  CRIMINAL DAMAGE  ECONOMIC CRIMES  CORRUPTION  \\\n",
       "0                42               79              180           4   \n",
       "1                 0               44               23           0   \n",
       "2                 8               86              106           1   \n",
       "3                 0               20                6           0   \n",
       "4                 0               15                7           0   \n",
       "\n",
       "   OFFENCES INVOLVING POLICE OFFICERS  OFFENCES  INVOLVING TOURIST  \\\n",
       "0                                   0                            1   \n",
       "1                                   0                            2   \n",
       "2                                   0                            0   \n",
       "3                                   1                            0   \n",
       "4                                   4                            0   \n",
       "\n",
       "   OTHER PENAL CODE OFFENCES  GRAND TOTAL CRIME  \n",
       "0                        220               2231  \n",
       "1                         78                910  \n",
       "2                        263               1798  \n",
       "3                         33                396  \n",
       "4                         40                380  "
      ]
     },
     "execution_count": 310,
     "metadata": {},
     "output_type": "execute_result"
    }
   ],
   "source": [
    "crime_data.head()"
   ]
  },
  {
   "cell_type": "code",
   "execution_count": 307,
   "id": "dbc53b31",
   "metadata": {},
   "outputs": [],
   "source": [
    "#Then save the drug data frame to a seperate variable\n",
    "\n",
    "drug_data = pd.read_excel('county_crime_research.xlsx', sheet_name='drug_data')"
   ]
  },
  {
   "cell_type": "code",
   "execution_count": 167,
   "id": "d5b65657",
   "metadata": {},
   "outputs": [
    {
     "data": {
      "text/html": [
       "<div>\n",
       "<style scoped>\n",
       "    .dataframe tbody tr th:only-of-type {\n",
       "        vertical-align: middle;\n",
       "    }\n",
       "\n",
       "    .dataframe tbody tr th {\n",
       "        vertical-align: top;\n",
       "    }\n",
       "\n",
       "    .dataframe thead th {\n",
       "        text-align: right;\n",
       "    }\n",
       "</style>\n",
       "<table border=\"1\" class=\"dataframe\">\n",
       "  <thead>\n",
       "    <tr style=\"text-align: right;\">\n",
       "      <th></th>\n",
       "      <th>County code</th>\n",
       "      <th>Counties</th>\n",
       "      <th>BHANG</th>\n",
       "      <th>BROWN SUGAR</th>\n",
       "      <th>COCAINE</th>\n",
       "      <th>COZEPAM</th>\n",
       "      <th>COZEPAM TABS</th>\n",
       "      <th>heroin</th>\n",
       "      <th>SHISHA</th>\n",
       "      <th>STILNOX</th>\n",
       "      <th>(blank)</th>\n",
       "      <th>Grand Total</th>\n",
       "    </tr>\n",
       "  </thead>\n",
       "  <tbody>\n",
       "    <tr>\n",
       "      <th>0</th>\n",
       "      <td>1</td>\n",
       "      <td>Mombasa (County)</td>\n",
       "      <td>173</td>\n",
       "      <td>NaN</td>\n",
       "      <td>2.0</td>\n",
       "      <td>2.0</td>\n",
       "      <td>NaN</td>\n",
       "      <td>27.0</td>\n",
       "      <td>NaN</td>\n",
       "      <td>NaN</td>\n",
       "      <td>NaN</td>\n",
       "      <td>204</td>\n",
       "    </tr>\n",
       "    <tr>\n",
       "      <th>1</th>\n",
       "      <td>2</td>\n",
       "      <td>Kwale</td>\n",
       "      <td>24</td>\n",
       "      <td>NaN</td>\n",
       "      <td>NaN</td>\n",
       "      <td>NaN</td>\n",
       "      <td>NaN</td>\n",
       "      <td>1.0</td>\n",
       "      <td>NaN</td>\n",
       "      <td>NaN</td>\n",
       "      <td>NaN</td>\n",
       "      <td>25</td>\n",
       "    </tr>\n",
       "    <tr>\n",
       "      <th>2</th>\n",
       "      <td>3</td>\n",
       "      <td>Kilifi</td>\n",
       "      <td>57</td>\n",
       "      <td>NaN</td>\n",
       "      <td>8.0</td>\n",
       "      <td>NaN</td>\n",
       "      <td>NaN</td>\n",
       "      <td>12.0</td>\n",
       "      <td>NaN</td>\n",
       "      <td>NaN</td>\n",
       "      <td>NaN</td>\n",
       "      <td>77</td>\n",
       "    </tr>\n",
       "    <tr>\n",
       "      <th>3</th>\n",
       "      <td>4</td>\n",
       "      <td>Tana River</td>\n",
       "      <td>41</td>\n",
       "      <td>NaN</td>\n",
       "      <td>NaN</td>\n",
       "      <td>NaN</td>\n",
       "      <td>NaN</td>\n",
       "      <td>NaN</td>\n",
       "      <td>NaN</td>\n",
       "      <td>NaN</td>\n",
       "      <td>NaN</td>\n",
       "      <td>41</td>\n",
       "    </tr>\n",
       "    <tr>\n",
       "      <th>4</th>\n",
       "      <td>5</td>\n",
       "      <td>Lamu</td>\n",
       "      <td>16</td>\n",
       "      <td>1.0</td>\n",
       "      <td>NaN</td>\n",
       "      <td>NaN</td>\n",
       "      <td>NaN</td>\n",
       "      <td>5.0</td>\n",
       "      <td>NaN</td>\n",
       "      <td>NaN</td>\n",
       "      <td>NaN</td>\n",
       "      <td>22</td>\n",
       "    </tr>\n",
       "  </tbody>\n",
       "</table>\n",
       "</div>"
      ],
      "text/plain": [
       "   County code          Counties  BHANG  BROWN SUGAR  COCAINE  COZEPAM  \\\n",
       "0            1  Mombasa (County)    173          NaN      2.0      2.0   \n",
       "1            2             Kwale     24          NaN      NaN      NaN   \n",
       "2            3            Kilifi     57          NaN      8.0      NaN   \n",
       "3            4        Tana River     41          NaN      NaN      NaN   \n",
       "4            5              Lamu     16          1.0      NaN      NaN   \n",
       "\n",
       "   COZEPAM TABS  heroin  SHISHA  STILNOX  (blank)  Grand Total  \n",
       "0           NaN    27.0     NaN      NaN      NaN          204  \n",
       "1           NaN     1.0     NaN      NaN      NaN           25  \n",
       "2           NaN    12.0     NaN      NaN      NaN           77  \n",
       "3           NaN     NaN     NaN      NaN      NaN           41  \n",
       "4           NaN     5.0     NaN      NaN      NaN           22  "
      ]
     },
     "execution_count": 167,
     "metadata": {},
     "output_type": "execute_result"
    }
   ],
   "source": [
    "drug_data.head()"
   ]
  },
  {
   "cell_type": "markdown",
   "id": "e5775fc0",
   "metadata": {},
   "source": [
    "**ALL THIS DATA WAS CLEANED AND GIVEN THE SAME COUNTY NAMES MERGING, INDEX OR KEY MERGING COULD ALSO BE USED BY I LIKE LEVERAGING MY EXCEL SKILLS TO ALSO HELP ME WORK MORE EFFICENTLY AND EFFECTIVELY**"
   ]
  },
  {
   "cell_type": "code",
   "execution_count": 168,
   "id": "f231979c",
   "metadata": {},
   "outputs": [],
   "source": [
    "#Now merge the county_data with the crime data and drug data\n",
    "\n",
    "df = pd.merge(county_data, crime_data, left_on='County', right_on='(COUNTIES)')\n",
    "county_info = pd.merge(df, drug_data, left_on='County', right_on='Counties')"
   ]
  },
  {
   "cell_type": "code",
   "execution_count": 169,
   "id": "dc48f6b0",
   "metadata": {},
   "outputs": [
    {
     "data": {
      "text/html": [
       "<div>\n",
       "<style scoped>\n",
       "    .dataframe tbody tr th:only-of-type {\n",
       "        vertical-align: middle;\n",
       "    }\n",
       "\n",
       "    .dataframe tbody tr th {\n",
       "        vertical-align: top;\n",
       "    }\n",
       "\n",
       "    .dataframe thead th {\n",
       "        text-align: right;\n",
       "    }\n",
       "</style>\n",
       "<table border=\"1\" class=\"dataframe\">\n",
       "  <thead>\n",
       "    <tr style=\"text-align: right;\">\n",
       "      <th></th>\n",
       "      <th>Code</th>\n",
       "      <th>County</th>\n",
       "      <th>Area(km2)</th>\n",
       "      <th>Population(2019 Census)</th>\n",
       "      <th>(COUNTIES)</th>\n",
       "      <th>HOMICIDE</th>\n",
       "      <th>OFFENCES AGAINST MORALITY</th>\n",
       "      <th>OTHER OFFENCES AGAINST PERSONS</th>\n",
       "      <th>ROBBERY</th>\n",
       "      <th>BREAKINGS</th>\n",
       "      <th>...</th>\n",
       "      <th>BHANG</th>\n",
       "      <th>BROWN SUGAR</th>\n",
       "      <th>COCAINE</th>\n",
       "      <th>COZEPAM</th>\n",
       "      <th>COZEPAM TABS</th>\n",
       "      <th>heroin</th>\n",
       "      <th>SHISHA</th>\n",
       "      <th>STILNOX</th>\n",
       "      <th>(blank)</th>\n",
       "      <th>Grand Total</th>\n",
       "    </tr>\n",
       "  </thead>\n",
       "  <tbody>\n",
       "    <tr>\n",
       "      <th>0</th>\n",
       "      <td>1.0</td>\n",
       "      <td>Mombasa (County)</td>\n",
       "      <td>212.5</td>\n",
       "      <td>1208333</td>\n",
       "      <td>Mombasa (County)</td>\n",
       "      <td>25</td>\n",
       "      <td>280</td>\n",
       "      <td>348</td>\n",
       "      <td>85</td>\n",
       "      <td>119</td>\n",
       "      <td>...</td>\n",
       "      <td>173</td>\n",
       "      <td>NaN</td>\n",
       "      <td>2.0</td>\n",
       "      <td>2.0</td>\n",
       "      <td>NaN</td>\n",
       "      <td>27.0</td>\n",
       "      <td>NaN</td>\n",
       "      <td>NaN</td>\n",
       "      <td>NaN</td>\n",
       "      <td>204</td>\n",
       "    </tr>\n",
       "    <tr>\n",
       "      <th>1</th>\n",
       "      <td>2.0</td>\n",
       "      <td>Kwale</td>\n",
       "      <td>8270.3</td>\n",
       "      <td>866820</td>\n",
       "      <td>Kwale</td>\n",
       "      <td>52</td>\n",
       "      <td>230</td>\n",
       "      <td>243</td>\n",
       "      <td>17</td>\n",
       "      <td>44</td>\n",
       "      <td>...</td>\n",
       "      <td>24</td>\n",
       "      <td>NaN</td>\n",
       "      <td>NaN</td>\n",
       "      <td>NaN</td>\n",
       "      <td>NaN</td>\n",
       "      <td>1.0</td>\n",
       "      <td>NaN</td>\n",
       "      <td>NaN</td>\n",
       "      <td>NaN</td>\n",
       "      <td>25</td>\n",
       "    </tr>\n",
       "    <tr>\n",
       "      <th>2</th>\n",
       "      <td>3.0</td>\n",
       "      <td>Kilifi</td>\n",
       "      <td>12245.9</td>\n",
       "      <td>1453787</td>\n",
       "      <td>Kilifi</td>\n",
       "      <td>124</td>\n",
       "      <td>328</td>\n",
       "      <td>356</td>\n",
       "      <td>25</td>\n",
       "      <td>95</td>\n",
       "      <td>...</td>\n",
       "      <td>57</td>\n",
       "      <td>NaN</td>\n",
       "      <td>8.0</td>\n",
       "      <td>NaN</td>\n",
       "      <td>NaN</td>\n",
       "      <td>12.0</td>\n",
       "      <td>NaN</td>\n",
       "      <td>NaN</td>\n",
       "      <td>NaN</td>\n",
       "      <td>77</td>\n",
       "    </tr>\n",
       "    <tr>\n",
       "      <th>3</th>\n",
       "      <td>4.0</td>\n",
       "      <td>Tana River</td>\n",
       "      <td>35375.8</td>\n",
       "      <td>315943</td>\n",
       "      <td>Tana River</td>\n",
       "      <td>11</td>\n",
       "      <td>72</td>\n",
       "      <td>129</td>\n",
       "      <td>7</td>\n",
       "      <td>25</td>\n",
       "      <td>...</td>\n",
       "      <td>41</td>\n",
       "      <td>NaN</td>\n",
       "      <td>NaN</td>\n",
       "      <td>NaN</td>\n",
       "      <td>NaN</td>\n",
       "      <td>NaN</td>\n",
       "      <td>NaN</td>\n",
       "      <td>NaN</td>\n",
       "      <td>NaN</td>\n",
       "      <td>41</td>\n",
       "    </tr>\n",
       "    <tr>\n",
       "      <th>4</th>\n",
       "      <td>5.0</td>\n",
       "      <td>Lamu</td>\n",
       "      <td>6497.7</td>\n",
       "      <td>143920</td>\n",
       "      <td>Lamu</td>\n",
       "      <td>9</td>\n",
       "      <td>64</td>\n",
       "      <td>103</td>\n",
       "      <td>14</td>\n",
       "      <td>27</td>\n",
       "      <td>...</td>\n",
       "      <td>16</td>\n",
       "      <td>1.0</td>\n",
       "      <td>NaN</td>\n",
       "      <td>NaN</td>\n",
       "      <td>NaN</td>\n",
       "      <td>5.0</td>\n",
       "      <td>NaN</td>\n",
       "      <td>NaN</td>\n",
       "      <td>NaN</td>\n",
       "      <td>22</td>\n",
       "    </tr>\n",
       "  </tbody>\n",
       "</table>\n",
       "<p>5 rows × 35 columns</p>\n",
       "</div>"
      ],
      "text/plain": [
       "   Code            County  Area(km2)  Population(2019 Census)  \\\n",
       "0   1.0  Mombasa (County)      212.5                  1208333   \n",
       "1   2.0             Kwale     8270.3                   866820   \n",
       "2   3.0            Kilifi    12245.9                  1453787   \n",
       "3   4.0        Tana River    35375.8                   315943   \n",
       "4   5.0              Lamu     6497.7                   143920   \n",
       "\n",
       "         (COUNTIES)  HOMICIDE  OFFENCES AGAINST MORALITY  \\\n",
       "0  Mombasa (County)        25                        280   \n",
       "1             Kwale        52                        230   \n",
       "2            Kilifi       124                        328   \n",
       "3        Tana River        11                         72   \n",
       "4              Lamu         9                         64   \n",
       "\n",
       "   OTHER OFFENCES AGAINST PERSONS  ROBBERY  BREAKINGS  ...  BHANG  \\\n",
       "0                             348       85        119  ...    173   \n",
       "1                             243       17         44  ...     24   \n",
       "2                             356       25         95  ...     57   \n",
       "3                             129        7         25  ...     41   \n",
       "4                             103       14         27  ...     16   \n",
       "\n",
       "   BROWN SUGAR  COCAINE  COZEPAM  COZEPAM TABS  heroin  SHISHA  STILNOX  \\\n",
       "0          NaN      2.0      2.0           NaN    27.0     NaN      NaN   \n",
       "1          NaN      NaN      NaN           NaN     1.0     NaN      NaN   \n",
       "2          NaN      8.0      NaN           NaN    12.0     NaN      NaN   \n",
       "3          NaN      NaN      NaN           NaN     NaN     NaN      NaN   \n",
       "4          1.0      NaN      NaN           NaN     5.0     NaN      NaN   \n",
       "\n",
       "   (blank)  Grand Total  \n",
       "0      NaN          204  \n",
       "1      NaN           25  \n",
       "2      NaN           77  \n",
       "3      NaN           41  \n",
       "4      NaN           22  \n",
       "\n",
       "[5 rows x 35 columns]"
      ]
     },
     "execution_count": 169,
     "metadata": {},
     "output_type": "execute_result"
    }
   ],
   "source": [
    "county_info.head()"
   ]
  },
  {
   "cell_type": "code",
   "execution_count": 170,
   "id": "0893fd04",
   "metadata": {},
   "outputs": [],
   "source": [
    "#We now drop all the extra county names columns, we also drop the county code that came with the drug data\n",
    "\n",
    "county_info.drop(['(COUNTIES)', 'Counties', 'County code'], axis=1, inplace=True)"
   ]
  },
  {
   "cell_type": "code",
   "execution_count": 171,
   "id": "ddd88799",
   "metadata": {},
   "outputs": [
    {
     "data": {
      "text/html": [
       "<div>\n",
       "<style scoped>\n",
       "    .dataframe tbody tr th:only-of-type {\n",
       "        vertical-align: middle;\n",
       "    }\n",
       "\n",
       "    .dataframe tbody tr th {\n",
       "        vertical-align: top;\n",
       "    }\n",
       "\n",
       "    .dataframe thead th {\n",
       "        text-align: right;\n",
       "    }\n",
       "</style>\n",
       "<table border=\"1\" class=\"dataframe\">\n",
       "  <thead>\n",
       "    <tr style=\"text-align: right;\">\n",
       "      <th></th>\n",
       "      <th>Code</th>\n",
       "      <th>County</th>\n",
       "      <th>Area(km2)</th>\n",
       "      <th>Population(2019 Census)</th>\n",
       "      <th>HOMICIDE</th>\n",
       "      <th>OFFENCES AGAINST MORALITY</th>\n",
       "      <th>OTHER OFFENCES AGAINST PERSONS</th>\n",
       "      <th>ROBBERY</th>\n",
       "      <th>BREAKINGS</th>\n",
       "      <th>THEFT OF STOCK</th>\n",
       "      <th>...</th>\n",
       "      <th>BHANG</th>\n",
       "      <th>BROWN SUGAR</th>\n",
       "      <th>COCAINE</th>\n",
       "      <th>COZEPAM</th>\n",
       "      <th>COZEPAM TABS</th>\n",
       "      <th>heroin</th>\n",
       "      <th>SHISHA</th>\n",
       "      <th>STILNOX</th>\n",
       "      <th>(blank)</th>\n",
       "      <th>Grand Total</th>\n",
       "    </tr>\n",
       "  </thead>\n",
       "  <tbody>\n",
       "    <tr>\n",
       "      <th>0</th>\n",
       "      <td>1.0</td>\n",
       "      <td>Mombasa (County)</td>\n",
       "      <td>212.5</td>\n",
       "      <td>1208333</td>\n",
       "      <td>25</td>\n",
       "      <td>280</td>\n",
       "      <td>348</td>\n",
       "      <td>85</td>\n",
       "      <td>119</td>\n",
       "      <td>4</td>\n",
       "      <td>...</td>\n",
       "      <td>173</td>\n",
       "      <td>NaN</td>\n",
       "      <td>2.0</td>\n",
       "      <td>2.0</td>\n",
       "      <td>NaN</td>\n",
       "      <td>27.0</td>\n",
       "      <td>NaN</td>\n",
       "      <td>NaN</td>\n",
       "      <td>NaN</td>\n",
       "      <td>204</td>\n",
       "    </tr>\n",
       "    <tr>\n",
       "      <th>1</th>\n",
       "      <td>2.0</td>\n",
       "      <td>Kwale</td>\n",
       "      <td>8270.3</td>\n",
       "      <td>866820</td>\n",
       "      <td>52</td>\n",
       "      <td>230</td>\n",
       "      <td>243</td>\n",
       "      <td>17</td>\n",
       "      <td>44</td>\n",
       "      <td>26</td>\n",
       "      <td>...</td>\n",
       "      <td>24</td>\n",
       "      <td>NaN</td>\n",
       "      <td>NaN</td>\n",
       "      <td>NaN</td>\n",
       "      <td>NaN</td>\n",
       "      <td>1.0</td>\n",
       "      <td>NaN</td>\n",
       "      <td>NaN</td>\n",
       "      <td>NaN</td>\n",
       "      <td>25</td>\n",
       "    </tr>\n",
       "    <tr>\n",
       "      <th>2</th>\n",
       "      <td>3.0</td>\n",
       "      <td>Kilifi</td>\n",
       "      <td>12245.9</td>\n",
       "      <td>1453787</td>\n",
       "      <td>124</td>\n",
       "      <td>328</td>\n",
       "      <td>356</td>\n",
       "      <td>25</td>\n",
       "      <td>95</td>\n",
       "      <td>28</td>\n",
       "      <td>...</td>\n",
       "      <td>57</td>\n",
       "      <td>NaN</td>\n",
       "      <td>8.0</td>\n",
       "      <td>NaN</td>\n",
       "      <td>NaN</td>\n",
       "      <td>12.0</td>\n",
       "      <td>NaN</td>\n",
       "      <td>NaN</td>\n",
       "      <td>NaN</td>\n",
       "      <td>77</td>\n",
       "    </tr>\n",
       "    <tr>\n",
       "      <th>3</th>\n",
       "      <td>4.0</td>\n",
       "      <td>Tana River</td>\n",
       "      <td>35375.8</td>\n",
       "      <td>315943</td>\n",
       "      <td>11</td>\n",
       "      <td>72</td>\n",
       "      <td>129</td>\n",
       "      <td>7</td>\n",
       "      <td>25</td>\n",
       "      <td>18</td>\n",
       "      <td>...</td>\n",
       "      <td>41</td>\n",
       "      <td>NaN</td>\n",
       "      <td>NaN</td>\n",
       "      <td>NaN</td>\n",
       "      <td>NaN</td>\n",
       "      <td>NaN</td>\n",
       "      <td>NaN</td>\n",
       "      <td>NaN</td>\n",
       "      <td>NaN</td>\n",
       "      <td>41</td>\n",
       "    </tr>\n",
       "    <tr>\n",
       "      <th>4</th>\n",
       "      <td>5.0</td>\n",
       "      <td>Lamu</td>\n",
       "      <td>6497.7</td>\n",
       "      <td>143920</td>\n",
       "      <td>9</td>\n",
       "      <td>64</td>\n",
       "      <td>103</td>\n",
       "      <td>14</td>\n",
       "      <td>27</td>\n",
       "      <td>13</td>\n",
       "      <td>...</td>\n",
       "      <td>16</td>\n",
       "      <td>1.0</td>\n",
       "      <td>NaN</td>\n",
       "      <td>NaN</td>\n",
       "      <td>NaN</td>\n",
       "      <td>5.0</td>\n",
       "      <td>NaN</td>\n",
       "      <td>NaN</td>\n",
       "      <td>NaN</td>\n",
       "      <td>22</td>\n",
       "    </tr>\n",
       "  </tbody>\n",
       "</table>\n",
       "<p>5 rows × 32 columns</p>\n",
       "</div>"
      ],
      "text/plain": [
       "   Code            County  Area(km2)  Population(2019 Census)  HOMICIDE  \\\n",
       "0   1.0  Mombasa (County)      212.5                  1208333        25   \n",
       "1   2.0             Kwale     8270.3                   866820        52   \n",
       "2   3.0            Kilifi    12245.9                  1453787       124   \n",
       "3   4.0        Tana River    35375.8                   315943        11   \n",
       "4   5.0              Lamu     6497.7                   143920         9   \n",
       "\n",
       "   OFFENCES AGAINST MORALITY  OTHER OFFENCES AGAINST PERSONS  ROBBERY  \\\n",
       "0                        280                             348       85   \n",
       "1                        230                             243       17   \n",
       "2                        328                             356       25   \n",
       "3                         72                             129        7   \n",
       "4                         64                             103       14   \n",
       "\n",
       "   BREAKINGS  THEFT OF STOCK  ...  BHANG  BROWN SUGAR  COCAINE  COZEPAM  \\\n",
       "0        119               4  ...    173          NaN      2.0      2.0   \n",
       "1         44              26  ...     24          NaN      NaN      NaN   \n",
       "2         95              28  ...     57          NaN      8.0      NaN   \n",
       "3         25              18  ...     41          NaN      NaN      NaN   \n",
       "4         27              13  ...     16          1.0      NaN      NaN   \n",
       "\n",
       "   COZEPAM TABS  heroin  SHISHA  STILNOX  (blank)  Grand Total  \n",
       "0           NaN    27.0     NaN      NaN      NaN          204  \n",
       "1           NaN     1.0     NaN      NaN      NaN           25  \n",
       "2           NaN    12.0     NaN      NaN      NaN           77  \n",
       "3           NaN     NaN     NaN      NaN      NaN           41  \n",
       "4           NaN     5.0     NaN      NaN      NaN           22  \n",
       "\n",
       "[5 rows x 32 columns]"
      ]
     },
     "execution_count": 171,
     "metadata": {},
     "output_type": "execute_result"
    }
   ],
   "source": [
    "county_info.head()"
   ]
  },
  {
   "cell_type": "code",
   "execution_count": 172,
   "id": "d4a2874a",
   "metadata": {},
   "outputs": [
    {
     "data": {
      "text/plain": [
       "Index(['Code', 'County', 'Area(km2)', 'Population(2019 Census)', 'HOMICIDE',\n",
       "       'OFFENCES AGAINST MORALITY', 'OTHER OFFENCES AGAINST PERSONS',\n",
       "       'ROBBERY', 'BREAKINGS', 'THEFT OF STOCK', 'STEALING',\n",
       "       'THEFT BY SERVANT', 'VEHICLE AND OTHER THEFTS', 'DANGEROUS DRUGS',\n",
       "       'TRAFFIC OFFENCES', 'CRIMINAL DAMAGE', 'ECONOMIC CRIMES', 'CORRUPTION',\n",
       "       'OFFENCES INVOLVING POLICE OFFICERS', 'OFFENCES  INVOLVING TOURIST',\n",
       "       'OTHER PENAL CODE OFFENCES', 'GRAND TOTAL CRIME', 'BHANG',\n",
       "       'BROWN SUGAR', 'COCAINE', 'COZEPAM', 'COZEPAM TABS', 'heroin', 'SHISHA',\n",
       "       'STILNOX', '(blank)', 'Grand Total'],\n",
       "      dtype='object')"
      ]
     },
     "execution_count": 172,
     "metadata": {},
     "output_type": "execute_result"
    }
   ],
   "source": [
    "county_info.columns"
   ]
  },
  {
   "cell_type": "code",
   "execution_count": 173,
   "id": "065b64b3",
   "metadata": {},
   "outputs": [],
   "source": [
    "#Since our main drug to investigate is bhang we drop all the other drugs.\n",
    "\n",
    "county_info.drop(['BROWN SUGAR',\n",
    "       'COCAINE', 'COZEPAM', 'COZEPAM TABS', 'heroin', 'SHISHA', 'STILNOX',\n",
    "       '(blank)', 'Grand Total'], axis=1, inplace=True)"
   ]
  },
  {
   "cell_type": "code",
   "execution_count": 174,
   "id": "5694dd7f",
   "metadata": {},
   "outputs": [
    {
     "data": {
      "text/html": [
       "<div>\n",
       "<style scoped>\n",
       "    .dataframe tbody tr th:only-of-type {\n",
       "        vertical-align: middle;\n",
       "    }\n",
       "\n",
       "    .dataframe tbody tr th {\n",
       "        vertical-align: top;\n",
       "    }\n",
       "\n",
       "    .dataframe thead th {\n",
       "        text-align: right;\n",
       "    }\n",
       "</style>\n",
       "<table border=\"1\" class=\"dataframe\">\n",
       "  <thead>\n",
       "    <tr style=\"text-align: right;\">\n",
       "      <th></th>\n",
       "      <th>Code</th>\n",
       "      <th>County</th>\n",
       "      <th>Area(km2)</th>\n",
       "      <th>Population(2019 Census)</th>\n",
       "      <th>HOMICIDE</th>\n",
       "      <th>OFFENCES AGAINST MORALITY</th>\n",
       "      <th>OTHER OFFENCES AGAINST PERSONS</th>\n",
       "      <th>ROBBERY</th>\n",
       "      <th>BREAKINGS</th>\n",
       "      <th>THEFT OF STOCK</th>\n",
       "      <th>...</th>\n",
       "      <th>DANGEROUS DRUGS</th>\n",
       "      <th>TRAFFIC OFFENCES</th>\n",
       "      <th>CRIMINAL DAMAGE</th>\n",
       "      <th>ECONOMIC CRIMES</th>\n",
       "      <th>CORRUPTION</th>\n",
       "      <th>OFFENCES INVOLVING POLICE OFFICERS</th>\n",
       "      <th>OFFENCES  INVOLVING TOURIST</th>\n",
       "      <th>OTHER PENAL CODE OFFENCES</th>\n",
       "      <th>GRAND TOTAL CRIME</th>\n",
       "      <th>BHANG</th>\n",
       "    </tr>\n",
       "  </thead>\n",
       "  <tbody>\n",
       "    <tr>\n",
       "      <th>0</th>\n",
       "      <td>1.0</td>\n",
       "      <td>Mombasa (County)</td>\n",
       "      <td>212.5</td>\n",
       "      <td>1208333</td>\n",
       "      <td>25</td>\n",
       "      <td>280</td>\n",
       "      <td>348</td>\n",
       "      <td>85</td>\n",
       "      <td>119</td>\n",
       "      <td>4</td>\n",
       "      <td>...</td>\n",
       "      <td>269</td>\n",
       "      <td>42</td>\n",
       "      <td>79</td>\n",
       "      <td>180</td>\n",
       "      <td>4</td>\n",
       "      <td>0</td>\n",
       "      <td>1</td>\n",
       "      <td>220</td>\n",
       "      <td>2231</td>\n",
       "      <td>173</td>\n",
       "    </tr>\n",
       "    <tr>\n",
       "      <th>1</th>\n",
       "      <td>2.0</td>\n",
       "      <td>Kwale</td>\n",
       "      <td>8270.3</td>\n",
       "      <td>866820</td>\n",
       "      <td>52</td>\n",
       "      <td>230</td>\n",
       "      <td>243</td>\n",
       "      <td>17</td>\n",
       "      <td>44</td>\n",
       "      <td>26</td>\n",
       "      <td>...</td>\n",
       "      <td>23</td>\n",
       "      <td>0</td>\n",
       "      <td>44</td>\n",
       "      <td>23</td>\n",
       "      <td>0</td>\n",
       "      <td>0</td>\n",
       "      <td>2</td>\n",
       "      <td>78</td>\n",
       "      <td>910</td>\n",
       "      <td>24</td>\n",
       "    </tr>\n",
       "    <tr>\n",
       "      <th>2</th>\n",
       "      <td>3.0</td>\n",
       "      <td>Kilifi</td>\n",
       "      <td>12245.9</td>\n",
       "      <td>1453787</td>\n",
       "      <td>124</td>\n",
       "      <td>328</td>\n",
       "      <td>356</td>\n",
       "      <td>25</td>\n",
       "      <td>95</td>\n",
       "      <td>28</td>\n",
       "      <td>...</td>\n",
       "      <td>81</td>\n",
       "      <td>8</td>\n",
       "      <td>86</td>\n",
       "      <td>106</td>\n",
       "      <td>1</td>\n",
       "      <td>0</td>\n",
       "      <td>0</td>\n",
       "      <td>263</td>\n",
       "      <td>1798</td>\n",
       "      <td>57</td>\n",
       "    </tr>\n",
       "    <tr>\n",
       "      <th>3</th>\n",
       "      <td>4.0</td>\n",
       "      <td>Tana River</td>\n",
       "      <td>35375.8</td>\n",
       "      <td>315943</td>\n",
       "      <td>11</td>\n",
       "      <td>72</td>\n",
       "      <td>129</td>\n",
       "      <td>7</td>\n",
       "      <td>25</td>\n",
       "      <td>18</td>\n",
       "      <td>...</td>\n",
       "      <td>19</td>\n",
       "      <td>0</td>\n",
       "      <td>20</td>\n",
       "      <td>6</td>\n",
       "      <td>0</td>\n",
       "      <td>1</td>\n",
       "      <td>0</td>\n",
       "      <td>33</td>\n",
       "      <td>396</td>\n",
       "      <td>41</td>\n",
       "    </tr>\n",
       "    <tr>\n",
       "      <th>4</th>\n",
       "      <td>5.0</td>\n",
       "      <td>Lamu</td>\n",
       "      <td>6497.7</td>\n",
       "      <td>143920</td>\n",
       "      <td>9</td>\n",
       "      <td>64</td>\n",
       "      <td>103</td>\n",
       "      <td>14</td>\n",
       "      <td>27</td>\n",
       "      <td>13</td>\n",
       "      <td>...</td>\n",
       "      <td>36</td>\n",
       "      <td>0</td>\n",
       "      <td>15</td>\n",
       "      <td>7</td>\n",
       "      <td>0</td>\n",
       "      <td>4</td>\n",
       "      <td>0</td>\n",
       "      <td>40</td>\n",
       "      <td>380</td>\n",
       "      <td>16</td>\n",
       "    </tr>\n",
       "  </tbody>\n",
       "</table>\n",
       "<p>5 rows × 23 columns</p>\n",
       "</div>"
      ],
      "text/plain": [
       "   Code            County  Area(km2)  Population(2019 Census)  HOMICIDE  \\\n",
       "0   1.0  Mombasa (County)      212.5                  1208333        25   \n",
       "1   2.0             Kwale     8270.3                   866820        52   \n",
       "2   3.0            Kilifi    12245.9                  1453787       124   \n",
       "3   4.0        Tana River    35375.8                   315943        11   \n",
       "4   5.0              Lamu     6497.7                   143920         9   \n",
       "\n",
       "   OFFENCES AGAINST MORALITY  OTHER OFFENCES AGAINST PERSONS  ROBBERY  \\\n",
       "0                        280                             348       85   \n",
       "1                        230                             243       17   \n",
       "2                        328                             356       25   \n",
       "3                         72                             129        7   \n",
       "4                         64                             103       14   \n",
       "\n",
       "   BREAKINGS  THEFT OF STOCK  ...  DANGEROUS DRUGS  TRAFFIC OFFENCES  \\\n",
       "0        119               4  ...              269                42   \n",
       "1         44              26  ...               23                 0   \n",
       "2         95              28  ...               81                 8   \n",
       "3         25              18  ...               19                 0   \n",
       "4         27              13  ...               36                 0   \n",
       "\n",
       "   CRIMINAL DAMAGE  ECONOMIC CRIMES  CORRUPTION  \\\n",
       "0               79              180           4   \n",
       "1               44               23           0   \n",
       "2               86              106           1   \n",
       "3               20                6           0   \n",
       "4               15                7           0   \n",
       "\n",
       "   OFFENCES INVOLVING POLICE OFFICERS  OFFENCES  INVOLVING TOURIST  \\\n",
       "0                                   0                            1   \n",
       "1                                   0                            2   \n",
       "2                                   0                            0   \n",
       "3                                   1                            0   \n",
       "4                                   4                            0   \n",
       "\n",
       "   OTHER PENAL CODE OFFENCES  GRAND TOTAL CRIME  BHANG  \n",
       "0                        220               2231    173  \n",
       "1                         78                910     24  \n",
       "2                        263               1798     57  \n",
       "3                         33                396     41  \n",
       "4                         40                380     16  \n",
       "\n",
       "[5 rows x 23 columns]"
      ]
     },
     "execution_count": 174,
     "metadata": {},
     "output_type": "execute_result"
    }
   ],
   "source": [
    "county_info.head()"
   ]
  },
  {
   "cell_type": "markdown",
   "id": "c3a88826",
   "metadata": {},
   "source": [
    "We also will not be using all the crime but rather concentrate on five major crimes we drop the rest but remain with the grand crime total\n",
    "This crimes are;\n",
    "- Homicide\n",
    "- Robbery\n",
    "- Breakings\n",
    "- Stealing\n",
    "- Other offences against person \n"
   ]
  },
  {
   "cell_type": "code",
   "execution_count": 175,
   "id": "947df152",
   "metadata": {},
   "outputs": [],
   "source": [
    "\n",
    "county_info.drop(['OFFENCES AGAINST MORALITY','THEFT OF STOCK',\n",
    "       'THEFT BY SERVANT', 'VEHICLE AND OTHER THEFTS', 'DANGEROUS DRUGS',\n",
    "       'TRAFFIC OFFENCES', 'CRIMINAL DAMAGE', 'ECONOMIC CRIMES', 'CORRUPTION',\n",
    "       'OFFENCES INVOLVING POLICE OFFICERS', 'OFFENCES  INVOLVING TOURIST',\n",
    "       'OTHER PENAL CODE OFFENCES',], axis=1, inplace=True)"
   ]
  },
  {
   "cell_type": "code",
   "execution_count": 178,
   "id": "a9f820c6",
   "metadata": {},
   "outputs": [
    {
     "data": {
      "text/html": [
       "<div>\n",
       "<style scoped>\n",
       "    .dataframe tbody tr th:only-of-type {\n",
       "        vertical-align: middle;\n",
       "    }\n",
       "\n",
       "    .dataframe tbody tr th {\n",
       "        vertical-align: top;\n",
       "    }\n",
       "\n",
       "    .dataframe thead th {\n",
       "        text-align: right;\n",
       "    }\n",
       "</style>\n",
       "<table border=\"1\" class=\"dataframe\">\n",
       "  <thead>\n",
       "    <tr style=\"text-align: right;\">\n",
       "      <th></th>\n",
       "      <th>Code</th>\n",
       "      <th>County</th>\n",
       "      <th>Area(km2)</th>\n",
       "      <th>Population(2019 Census)</th>\n",
       "      <th>HOMICIDE</th>\n",
       "      <th>OTHER OFFENCES AGAINST PERSONS</th>\n",
       "      <th>ROBBERY</th>\n",
       "      <th>BREAKINGS</th>\n",
       "      <th>STEALING</th>\n",
       "      <th>GRAND TOTAL CRIME</th>\n",
       "      <th>BHANG</th>\n",
       "    </tr>\n",
       "  </thead>\n",
       "  <tbody>\n",
       "    <tr>\n",
       "      <th>0</th>\n",
       "      <td>1.0</td>\n",
       "      <td>Mombasa (County)</td>\n",
       "      <td>212.5</td>\n",
       "      <td>1208333</td>\n",
       "      <td>25</td>\n",
       "      <td>348</td>\n",
       "      <td>85</td>\n",
       "      <td>119</td>\n",
       "      <td>460</td>\n",
       "      <td>2231</td>\n",
       "      <td>173</td>\n",
       "    </tr>\n",
       "    <tr>\n",
       "      <th>1</th>\n",
       "      <td>2.0</td>\n",
       "      <td>Kwale</td>\n",
       "      <td>8270.3</td>\n",
       "      <td>866820</td>\n",
       "      <td>52</td>\n",
       "      <td>243</td>\n",
       "      <td>17</td>\n",
       "      <td>44</td>\n",
       "      <td>101</td>\n",
       "      <td>910</td>\n",
       "      <td>24</td>\n",
       "    </tr>\n",
       "    <tr>\n",
       "      <th>2</th>\n",
       "      <td>3.0</td>\n",
       "      <td>Kilifi</td>\n",
       "      <td>12245.9</td>\n",
       "      <td>1453787</td>\n",
       "      <td>124</td>\n",
       "      <td>356</td>\n",
       "      <td>25</td>\n",
       "      <td>95</td>\n",
       "      <td>243</td>\n",
       "      <td>1798</td>\n",
       "      <td>57</td>\n",
       "    </tr>\n",
       "    <tr>\n",
       "      <th>3</th>\n",
       "      <td>4.0</td>\n",
       "      <td>Tana River</td>\n",
       "      <td>35375.8</td>\n",
       "      <td>315943</td>\n",
       "      <td>11</td>\n",
       "      <td>129</td>\n",
       "      <td>7</td>\n",
       "      <td>25</td>\n",
       "      <td>43</td>\n",
       "      <td>396</td>\n",
       "      <td>41</td>\n",
       "    </tr>\n",
       "    <tr>\n",
       "      <th>4</th>\n",
       "      <td>5.0</td>\n",
       "      <td>Lamu</td>\n",
       "      <td>6497.7</td>\n",
       "      <td>143920</td>\n",
       "      <td>9</td>\n",
       "      <td>103</td>\n",
       "      <td>14</td>\n",
       "      <td>27</td>\n",
       "      <td>44</td>\n",
       "      <td>380</td>\n",
       "      <td>16</td>\n",
       "    </tr>\n",
       "  </tbody>\n",
       "</table>\n",
       "</div>"
      ],
      "text/plain": [
       "   Code            County  Area(km2)  Population(2019 Census)  HOMICIDE  \\\n",
       "0   1.0  Mombasa (County)      212.5                  1208333        25   \n",
       "1   2.0             Kwale     8270.3                   866820        52   \n",
       "2   3.0            Kilifi    12245.9                  1453787       124   \n",
       "3   4.0        Tana River    35375.8                   315943        11   \n",
       "4   5.0              Lamu     6497.7                   143920         9   \n",
       "\n",
       "   OTHER OFFENCES AGAINST PERSONS  ROBBERY  BREAKINGS  STEALING  \\\n",
       "0                             348       85        119       460   \n",
       "1                             243       17         44       101   \n",
       "2                             356       25         95       243   \n",
       "3                             129        7         25        43   \n",
       "4                             103       14         27        44   \n",
       "\n",
       "   GRAND TOTAL CRIME  BHANG  \n",
       "0               2231    173  \n",
       "1                910     24  \n",
       "2               1798     57  \n",
       "3                396     41  \n",
       "4                380     16  "
      ]
     },
     "execution_count": 178,
     "metadata": {},
     "output_type": "execute_result"
    }
   ],
   "source": [
    "county_info.head()"
   ]
  },
  {
   "cell_type": "markdown",
   "id": "a2cc1052",
   "metadata": {},
   "source": [
    "## DATA EXPLORATION"
   ]
  },
  {
   "cell_type": "markdown",
   "id": "ca95e26d",
   "metadata": {},
   "source": [
    "Now the data is clean and ready for expolration, in this section we are going to explore and investigate several things and answer the research objectives;\n",
    "- Find out the county with the highest crime rates (per 10000 people and per 10km2) and also for the crimes we are interested in in this research\n",
    "- The distribution of Bhang possesion charges per 10000 people and per 10km2\n",
    "- Correlation between bhang and crime rates (per 10000 people and per 10km2) and also for the crimes we are interested in in this research\n",
    "- Check the influence of bhang to crime rates (per 10000 people and per 10km2) and also on the crimes we are interested in in this research"
   ]
  },
  {
   "cell_type": "code",
   "execution_count": 262,
   "id": "b84567a1",
   "metadata": {},
   "outputs": [
    {
     "data": {
      "text/html": [
       "<div>\n",
       "<style scoped>\n",
       "    .dataframe tbody tr th:only-of-type {\n",
       "        vertical-align: middle;\n",
       "    }\n",
       "\n",
       "    .dataframe tbody tr th {\n",
       "        vertical-align: top;\n",
       "    }\n",
       "\n",
       "    .dataframe thead th {\n",
       "        text-align: right;\n",
       "    }\n",
       "</style>\n",
       "<table border=\"1\" class=\"dataframe\">\n",
       "  <thead>\n",
       "    <tr style=\"text-align: right;\">\n",
       "      <th></th>\n",
       "      <th>Code</th>\n",
       "      <th>County</th>\n",
       "      <th>Area(km2)</th>\n",
       "      <th>Population(2019 Census)</th>\n",
       "      <th>HOMICIDE</th>\n",
       "      <th>OTHER OFFENCES AGAINST PERSONS</th>\n",
       "      <th>ROBBERY</th>\n",
       "      <th>BREAKINGS</th>\n",
       "      <th>STEALING</th>\n",
       "      <th>GRAND TOTAL CRIME</th>\n",
       "      <th>BHANG</th>\n",
       "      <th>Homicide_rate (per 10,000 people)</th>\n",
       "      <th>other_offence_against_person (per 10,000 people)</th>\n",
       "      <th>Robbery_rate (per 10,000 people)</th>\n",
       "      <th>Stealing_rate (per 10,000 people)</th>\n",
       "      <th>Breaking_rate (per 10,000 people)</th>\n",
       "      <th>total_crime_rate (per 10,000 people)</th>\n",
       "    </tr>\n",
       "  </thead>\n",
       "  <tbody>\n",
       "  </tbody>\n",
       "</table>\n",
       "</div>"
      ],
      "text/plain": [
       "Empty DataFrame\n",
       "Columns: [Code, County, Area(km2), Population(2019 Census), HOMICIDE, OTHER OFFENCES AGAINST PERSONS, ROBBERY, BREAKINGS, STEALING, GRAND TOTAL CRIME, BHANG, Homicide_rate (per 10,000 people), other_offence_against_person (per 10,000 people), Robbery_rate (per 10,000 people), Stealing_rate (per 10,000 people), Breaking_rate (per 10,000 people), total_crime_rate (per 10,000 people)]\n",
       "Index: []"
      ]
     },
     "execution_count": 262,
     "metadata": {},
     "output_type": "execute_result"
    }
   ],
   "source": [
    "county_info.head(0)"
   ]
  },
  {
   "cell_type": "markdown",
   "id": "eef1dcd0",
   "metadata": {},
   "source": [
    "### CRIME RATE DISTRIBUTION AMONG THE COUNTIES"
   ]
  },
  {
   "cell_type": "markdown",
   "id": "6e2e54a2",
   "metadata": {},
   "source": [
    "Crime rate per 10000 people"
   ]
  },
  {
   "cell_type": "code",
   "execution_count": 681,
   "id": "0b44db11",
   "metadata": {},
   "outputs": [],
   "source": [
    "#Now create new columns with the rates per 10,000 people for each crime\n",
    "\n",
    "county_info['Homicide_rate (per 10,000 people)'] = (county_info['ROBBERY']/county_info['Population(2019 Census)']*10000)\n",
    "county_info['other_offence_against_person (per 10,000 people)'] = (county_info['OTHER OFFENCES AGAINST PERSONS']/county_info['Population(2019 Census)']*10000)\n",
    "county_info['Robbery_rate (per 10,000 people)'] = (county_info['ROBBERY']/county_info['Population(2019 Census)']*10000)\n",
    "county_info['Stealing_rate (per 10,000 people)'] = (county_info['STEALING']/county_info['Population(2019 Census)']*10000)\n",
    "county_info['Breaking_rate (per 10,000 people)'] = (county_info['BREAKINGS']/county_info['Population(2019 Census)']*10000)"
   ]
  },
  {
   "cell_type": "code",
   "execution_count": 334,
   "id": "df9c6d0f",
   "metadata": {},
   "outputs": [],
   "source": [
    "county_info['total_crime_rate (per 10,000 people)'] = (county_info['GRAND TOTAL CRIME']/county_info['Population(2019 Census)']*10000)"
   ]
  },
  {
   "cell_type": "code",
   "execution_count": 188,
   "id": "406cc199",
   "metadata": {
    "scrolled": true
   },
   "outputs": [
    {
     "data": {
      "text/html": [
       "<div>\n",
       "<style scoped>\n",
       "    .dataframe tbody tr th:only-of-type {\n",
       "        vertical-align: middle;\n",
       "    }\n",
       "\n",
       "    .dataframe tbody tr th {\n",
       "        vertical-align: top;\n",
       "    }\n",
       "\n",
       "    .dataframe thead th {\n",
       "        text-align: right;\n",
       "    }\n",
       "</style>\n",
       "<table border=\"1\" class=\"dataframe\">\n",
       "  <thead>\n",
       "    <tr style=\"text-align: right;\">\n",
       "      <th></th>\n",
       "      <th>Code</th>\n",
       "      <th>County</th>\n",
       "      <th>Area(km2)</th>\n",
       "      <th>Population(2019 Census)</th>\n",
       "      <th>HOMICIDE</th>\n",
       "      <th>OTHER OFFENCES AGAINST PERSONS</th>\n",
       "      <th>ROBBERY</th>\n",
       "      <th>BREAKINGS</th>\n",
       "      <th>STEALING</th>\n",
       "      <th>GRAND TOTAL CRIME</th>\n",
       "      <th>BHANG</th>\n",
       "      <th>Homicide_rate (per 10,000 people)</th>\n",
       "      <th>other_offence_against_person (per 10,000 people)</th>\n",
       "      <th>Robbery_rate (per 10,000 people)</th>\n",
       "      <th>Stealing_rate (per 10,000 people)</th>\n",
       "      <th>Breaking_rate (per 10,000 people)</th>\n",
       "      <th>total_crime_rate (per 10,000 people)</th>\n",
       "    </tr>\n",
       "  </thead>\n",
       "  <tbody>\n",
       "    <tr>\n",
       "      <th>0</th>\n",
       "      <td>1.0</td>\n",
       "      <td>Mombasa (County)</td>\n",
       "      <td>212.5</td>\n",
       "      <td>1208333</td>\n",
       "      <td>25</td>\n",
       "      <td>348</td>\n",
       "      <td>85</td>\n",
       "      <td>119</td>\n",
       "      <td>460</td>\n",
       "      <td>2231</td>\n",
       "      <td>173</td>\n",
       "      <td>0.703448</td>\n",
       "      <td>2.880001</td>\n",
       "      <td>0.703448</td>\n",
       "      <td>3.806898</td>\n",
       "      <td>0.984828</td>\n",
       "      <td>18.463453</td>\n",
       "    </tr>\n",
       "    <tr>\n",
       "      <th>1</th>\n",
       "      <td>2.0</td>\n",
       "      <td>Kwale</td>\n",
       "      <td>8270.3</td>\n",
       "      <td>866820</td>\n",
       "      <td>52</td>\n",
       "      <td>243</td>\n",
       "      <td>17</td>\n",
       "      <td>44</td>\n",
       "      <td>101</td>\n",
       "      <td>910</td>\n",
       "      <td>24</td>\n",
       "      <td>0.196119</td>\n",
       "      <td>2.803350</td>\n",
       "      <td>0.196119</td>\n",
       "      <td>1.165178</td>\n",
       "      <td>0.507603</td>\n",
       "      <td>10.498143</td>\n",
       "    </tr>\n",
       "    <tr>\n",
       "      <th>2</th>\n",
       "      <td>3.0</td>\n",
       "      <td>Kilifi</td>\n",
       "      <td>12245.9</td>\n",
       "      <td>1453787</td>\n",
       "      <td>124</td>\n",
       "      <td>356</td>\n",
       "      <td>25</td>\n",
       "      <td>95</td>\n",
       "      <td>243</td>\n",
       "      <td>1798</td>\n",
       "      <td>57</td>\n",
       "      <td>0.171965</td>\n",
       "      <td>2.448777</td>\n",
       "      <td>0.171965</td>\n",
       "      <td>1.671497</td>\n",
       "      <td>0.653466</td>\n",
       "      <td>12.367699</td>\n",
       "    </tr>\n",
       "    <tr>\n",
       "      <th>3</th>\n",
       "      <td>4.0</td>\n",
       "      <td>Tana River</td>\n",
       "      <td>35375.8</td>\n",
       "      <td>315943</td>\n",
       "      <td>11</td>\n",
       "      <td>129</td>\n",
       "      <td>7</td>\n",
       "      <td>25</td>\n",
       "      <td>43</td>\n",
       "      <td>396</td>\n",
       "      <td>41</td>\n",
       "      <td>0.221559</td>\n",
       "      <td>4.083015</td>\n",
       "      <td>0.221559</td>\n",
       "      <td>1.361005</td>\n",
       "      <td>0.791282</td>\n",
       "      <td>12.533906</td>\n",
       "    </tr>\n",
       "    <tr>\n",
       "      <th>4</th>\n",
       "      <td>5.0</td>\n",
       "      <td>Lamu</td>\n",
       "      <td>6497.7</td>\n",
       "      <td>143920</td>\n",
       "      <td>9</td>\n",
       "      <td>103</td>\n",
       "      <td>14</td>\n",
       "      <td>27</td>\n",
       "      <td>44</td>\n",
       "      <td>380</td>\n",
       "      <td>16</td>\n",
       "      <td>0.972763</td>\n",
       "      <td>7.156754</td>\n",
       "      <td>0.972763</td>\n",
       "      <td>3.057254</td>\n",
       "      <td>1.876042</td>\n",
       "      <td>26.403558</td>\n",
       "    </tr>\n",
       "  </tbody>\n",
       "</table>\n",
       "</div>"
      ],
      "text/plain": [
       "   Code            County  Area(km2)  Population(2019 Census)  HOMICIDE  \\\n",
       "0   1.0  Mombasa (County)      212.5                  1208333        25   \n",
       "1   2.0             Kwale     8270.3                   866820        52   \n",
       "2   3.0            Kilifi    12245.9                  1453787       124   \n",
       "3   4.0        Tana River    35375.8                   315943        11   \n",
       "4   5.0              Lamu     6497.7                   143920         9   \n",
       "\n",
       "   OTHER OFFENCES AGAINST PERSONS  ROBBERY  BREAKINGS  STEALING  \\\n",
       "0                             348       85        119       460   \n",
       "1                             243       17         44       101   \n",
       "2                             356       25         95       243   \n",
       "3                             129        7         25        43   \n",
       "4                             103       14         27        44   \n",
       "\n",
       "   GRAND TOTAL CRIME  BHANG  Homicide_rate (per 10,000 people)  \\\n",
       "0               2231    173                           0.703448   \n",
       "1                910     24                           0.196119   \n",
       "2               1798     57                           0.171965   \n",
       "3                396     41                           0.221559   \n",
       "4                380     16                           0.972763   \n",
       "\n",
       "   other_offence_against_person (per 10,000 people)  \\\n",
       "0                                          2.880001   \n",
       "1                                          2.803350   \n",
       "2                                          2.448777   \n",
       "3                                          4.083015   \n",
       "4                                          7.156754   \n",
       "\n",
       "   Robbery_rate (per 10,000 people)  Stealing_rate (per 10,000 people)  \\\n",
       "0                          0.703448                           3.806898   \n",
       "1                          0.196119                           1.165178   \n",
       "2                          0.171965                           1.671497   \n",
       "3                          0.221559                           1.361005   \n",
       "4                          0.972763                           3.057254   \n",
       "\n",
       "   Breaking_rate (per 10,000 people)  total_crime_rate (per 10,000 people)  \n",
       "0                           0.984828                             18.463453  \n",
       "1                           0.507603                             10.498143  \n",
       "2                           0.653466                             12.367699  \n",
       "3                           0.791282                             12.533906  \n",
       "4                           1.876042                             26.403558  "
      ]
     },
     "execution_count": 188,
     "metadata": {},
     "output_type": "execute_result"
    }
   ],
   "source": [
    "county_info.head()"
   ]
  },
  {
   "cell_type": "code",
   "execution_count": 205,
   "id": "bd82a413",
   "metadata": {},
   "outputs": [
    {
     "data": {
      "text/html": [
       "<div>\n",
       "<style scoped>\n",
       "    .dataframe tbody tr th:only-of-type {\n",
       "        vertical-align: middle;\n",
       "    }\n",
       "\n",
       "    .dataframe tbody tr th {\n",
       "        vertical-align: top;\n",
       "    }\n",
       "\n",
       "    .dataframe thead th {\n",
       "        text-align: right;\n",
       "    }\n",
       "</style>\n",
       "<table border=\"1\" class=\"dataframe\">\n",
       "  <thead>\n",
       "    <tr style=\"text-align: right;\">\n",
       "      <th></th>\n",
       "      <th>County</th>\n",
       "      <th>Robbery_rate (per 10,000 people)</th>\n",
       "    </tr>\n",
       "  </thead>\n",
       "  <tbody>\n",
       "    <tr>\n",
       "      <th>21</th>\n",
       "      <td>Kiambu</td>\n",
       "      <td>1.244967</td>\n",
       "    </tr>\n",
       "    <tr>\n",
       "      <th>4</th>\n",
       "      <td>Lamu</td>\n",
       "      <td>0.972763</td>\n",
       "    </tr>\n",
       "    <tr>\n",
       "      <th>5</th>\n",
       "      <td>Taita–Taveta</td>\n",
       "      <td>0.939323</td>\n",
       "    </tr>\n",
       "    <tr>\n",
       "      <th>15</th>\n",
       "      <td>Machakos</td>\n",
       "      <td>0.900184</td>\n",
       "    </tr>\n",
       "    <tr>\n",
       "      <th>46</th>\n",
       "      <td>Nairobi (County)</td>\n",
       "      <td>0.818726</td>\n",
       "    </tr>\n",
       "  </tbody>\n",
       "</table>\n",
       "</div>"
      ],
      "text/plain": [
       "              County  Robbery_rate (per 10,000 people)\n",
       "21            Kiambu                          1.244967\n",
       "4               Lamu                          0.972763\n",
       "5       Taita–Taveta                          0.939323\n",
       "15          Machakos                          0.900184\n",
       "46  Nairobi (County)                          0.818726"
      ]
     },
     "execution_count": 205,
     "metadata": {},
     "output_type": "execute_result"
    }
   ],
   "source": [
    "# We can now see the counties with the highest crime rate per 10,000 people, eg for Robbery\n",
    "\n",
    "county_info[['County', 'Robbery_rate (per 10,000 people)']].sort_values('Robbery_rate (per 10,000 people)', ascending= False).head()"
   ]
  },
  {
   "cell_type": "markdown",
   "id": "7bf47df7",
   "metadata": {},
   "source": [
    "We now need to create visualisations for this crime rates for each crime per 10000 people"
   ]
  },
  {
   "cell_type": "code",
   "execution_count": 197,
   "id": "e0d007f5",
   "metadata": {},
   "outputs": [
    {
     "data": {
      "text/plain": [
       "Index(['Code', 'County', 'Area(km2)', 'Population(2019 Census)', 'HOMICIDE',\n",
       "       'OTHER OFFENCES AGAINST PERSONS', 'ROBBERY', 'BREAKINGS', 'STEALING',\n",
       "       'GRAND TOTAL CRIME', 'BHANG', 'Homicide_rate (per 10,000 people)',\n",
       "       'other_offence_against_person (per 10,000 people)',\n",
       "       'Robbery_rate (per 10,000 people)', 'Stealing_rate (per 10,000 people)',\n",
       "       'Breaking_rate (per 10,000 people)',\n",
       "       'total_crime_rate (per 10,000 people)'],\n",
       "      dtype='object')"
      ]
     },
     "execution_count": 197,
     "metadata": {},
     "output_type": "execute_result"
    }
   ],
   "source": [
    "county_info.columns"
   ]
  },
  {
   "cell_type": "code",
   "execution_count": 264,
   "id": "670f76b9",
   "metadata": {},
   "outputs": [],
   "source": [
    "#Create axes for the different graphs\n",
    "\n",
    "axis_y_homice_rate = county_info[['County','Homicide_rate (per 10,000 people)']].sort_values('Homicide_rate (per 10,000 people)', ascending= False).head(10)['Homicide_rate (per 10,000 people)']\n",
    "axis_x_homice_rate_county = county_info[['County','Homicide_rate (per 10,000 people)']].sort_values('Homicide_rate (per 10,000 people)', ascending= False).head(10)['County']\n",
    "\n",
    "axis_y_other_offense_rate = county_info[['County','other_offence_against_person (per 10,000 people)']].sort_values('other_offence_against_person (per 10,000 people)', ascending= False).head(10)['other_offence_against_person (per 10,000 people)']\n",
    "axis_x_other_offense_rate_county = county_info[['County','other_offence_against_person (per 10,000 people)']].sort_values('other_offence_against_person (per 10,000 people)', ascending= False).head(10)['County']\n",
    "\n",
    "axis_y_robbery_rate = county_info[['County', 'Robbery_rate (per 10,000 people)']].sort_values('Robbery_rate (per 10,000 people)', ascending= False).head(10)['Robbery_rate (per 10,000 people)']\n",
    "axis_x_robbery_rate_counties = county_info[['County', 'Robbery_rate (per 10,000 people)']].sort_values('Robbery_rate (per 10,000 people)', ascending= False).head(10)['County']\n",
    "\n",
    "axis_y_Stealing_rate = county_info[['County', 'Stealing_rate (per 10,000 people)']].sort_values('Stealing_rate (per 10,000 people)', ascending= False).head(10)['Stealing_rate (per 10,000 people)']\n",
    "axis_x_Stealing_rate_counties = county_info[['County', 'Stealing_rate (per 10,000 people)']].sort_values('Stealing_rate (per 10,000 people)', ascending= False).head(10)['County']\n",
    "\n",
    "axis_y_Breaking_rate = county_info[['County','Breaking_rate (per 10,000 people)']].sort_values('Breaking_rate (per 10,000 people)', ascending= False).head(10)['Breaking_rate (per 10,000 people)']\n",
    "axis_x_Breaking_rate_county = county_info[['County','Breaking_rate (per 10,000 people)']].sort_values('Breaking_rate (per 10,000 people)', ascending= False).head(10)['County']\n",
    "\n",
    "axis_y_total_crime_rate = county_info[['County','total_crime_rate (per 10,000 people)']].sort_values('total_crime_rate (per 10,000 people)', ascending= False).head(10)['total_crime_rate (per 10,000 people)']\n",
    "axis_x_total_crime_rate_county = county_info[['County','total_crime_rate (per 10,000 people)']].sort_values('total_crime_rate (per 10,000 people)', ascending= False).head(10)['County']"
   ]
  },
  {
   "cell_type": "code",
   "execution_count": 682,
   "id": "a6a900f1",
   "metadata": {
    "scrolled": false
   },
   "outputs": [
    {
     "data": {
      "image/png": "[encoded data removed]",
      "text/plain": [
       "<Figure size 720x2160 with 5 Axes>"
      ]
     },
     "metadata": {
      "needs_background": "light"
     },
     "output_type": "display_data"
    }
   ],
   "source": [
    "#Ploting the points \n",
    "\n",
    "fig, ax =plt.subplots(nrows= 5, ncols=1, figsize=(10,30))\n",
    "ax[0].bar(axis_x_homice_rate_county, axis_y_homice_rate, color='red')\n",
    "ax[0].set_title('Homicide Rate')\n",
    "ax[0].set_ylabel('Homicide(s) per 10000 people')\n",
    "\n",
    "ax[1].bar(axis_x_other_offense_rate_county, axis_y_other_offense_rate, color='maroon')\n",
    "ax[1].set_title('Rate of other offences against People')\n",
    "ax[1].set_ylabel('Other offence(s) against People per 10000 people')\n",
    "\n",
    "ax[2].bar(axis_x_robbery_rate_counties, axis_y_robbery_rate, color='black')\n",
    "ax[2].set_title('Robbery rate')\n",
    "ax[2].set_ylabel('Robbery(s) per 10000 people')\n",
    "\n",
    "ax[3].bar(axis_x_Stealing_rate_counties, axis_y_Stealing_rate, color='purple')\n",
    "ax[3].set_title('Stealing rate')\n",
    "ax[3].set_ylabel('Stealing(s) per 10000 people')\n",
    "\n",
    "ax[4].bar(axis_x_Breaking_rate_county, axis_y_Breaking_rate, color='green')\n",
    "ax[4].set_title('Breaking rate')\n",
    "ax[4].set_ylabel('Breaking(s) per 10000 people')\n",
    "\n",
    "\n",
    "plt.tight_layout()\n",
    "plt.show()\n"
   ]
  },
  {
   "cell_type": "code",
   "execution_count": 684,
   "id": "2bc615f6",
   "metadata": {},
   "outputs": [
    {
     "data": {
      "image/png": "[encoded data removed]",
      "text/plain": [
       "<Figure size 864x468 with 1 Axes>"
      ]
     },
     "metadata": {
      "needs_background": "light"
     },
     "output_type": "display_data"
    }
   ],
   "source": [
    "dims = (12,6.5)\n",
    "ax = sns.barplot(x=axis_x_total_crime_rate_county, y=axis_y_total_crime_rate, data = county_info).set_title('10 highest crime rate per 10000 people') #, kind='bar')\n",
    "ax.figure.set_size_inches(dims)"
   ]
  },
  {
   "cell_type": "markdown",
   "id": "e9ecc97b",
   "metadata": {},
   "source": [
    "We can see from the above graphs there is no significant separation for the crime rate among the counties, the crime rate is highest however in Meru, Lamu, Taita Taveta and Embu. I am a little surprised not to see towns like Nairobi and Nakuru here to be honest."
   ]
  },
  {
   "cell_type": "markdown",
   "id": "dce9c529",
   "metadata": {},
   "source": [
    "### CRIME RATE DISTRIBUTION PER 10KM SQUARED"
   ]
  },
  {
   "cell_type": "code",
   "execution_count": null,
   "id": "860e54b3",
   "metadata": {},
   "outputs": [],
   "source": []
  },
  {
   "cell_type": "code",
   "execution_count": 293,
   "id": "839056fb",
   "metadata": {},
   "outputs": [],
   "source": [
    "#Now create new columns with the rates per 10KM squared people for each crime and for bhang\n",
    "\n",
    "area_info = county_info['Area(km2)']/10\n",
    "\n",
    "county_info['Homicide_rate (per 10KM2)'] = (county_info['HOMICIDE']/area_info)\n",
    "county_info['other_offence_against_person (per 10KM2)'] = (county_info['other_offence_against_person (per 10,000 people)']/area_info)\n",
    "county_info['Robbery_rate (per 10KM2)'] = (county_info['ROBBERY']/area_info)\n",
    "county_info['Stealing_rate (per 10KM2)'] = (county_info['STEALING']/area_info)\n",
    "county_info['Breaking_rate (per 10KM2)'] = (county_info['BREAKINGS']/area_info)\n",
    "county_info['total_crime_rate (per 10KM2)'] = (county_info['GRAND TOTAL CRIME']/area_info)"
   ]
  },
  {
   "cell_type": "code",
   "execution_count": 685,
   "id": "67d4b7a7",
   "metadata": {},
   "outputs": [
    {
     "data": {
      "text/html": [
       "<div>\n",
       "<style scoped>\n",
       "    .dataframe tbody tr th:only-of-type {\n",
       "        vertical-align: middle;\n",
       "    }\n",
       "\n",
       "    .dataframe tbody tr th {\n",
       "        vertical-align: top;\n",
       "    }\n",
       "\n",
       "    .dataframe thead th {\n",
       "        text-align: right;\n",
       "    }\n",
       "</style>\n",
       "<table border=\"1\" class=\"dataframe\">\n",
       "  <thead>\n",
       "    <tr style=\"text-align: right;\">\n",
       "      <th></th>\n",
       "      <th>County</th>\n",
       "      <th>Robbery_rate (per 10KM2)</th>\n",
       "    </tr>\n",
       "  </thead>\n",
       "  <tbody>\n",
       "    <tr>\n",
       "      <th>46</th>\n",
       "      <td>Nairobi (County)</td>\n",
       "      <td>5.180602</td>\n",
       "    </tr>\n",
       "    <tr>\n",
       "      <th>0</th>\n",
       "      <td>Mombasa (County)</td>\n",
       "      <td>4.000000</td>\n",
       "    </tr>\n",
       "    <tr>\n",
       "      <th>21</th>\n",
       "      <td>Kiambu</td>\n",
       "      <td>1.228973</td>\n",
       "    </tr>\n",
       "    <tr>\n",
       "      <th>37</th>\n",
       "      <td>Vihiga</td>\n",
       "      <td>0.564653</td>\n",
       "    </tr>\n",
       "    <tr>\n",
       "      <th>45</th>\n",
       "      <td>Nyamira</td>\n",
       "      <td>0.493151</td>\n",
       "    </tr>\n",
       "  </tbody>\n",
       "</table>\n",
       "</div>"
      ],
      "text/plain": [
       "              County  Robbery_rate (per 10KM2)\n",
       "46  Nairobi (County)                  5.180602\n",
       "0   Mombasa (County)                  4.000000\n",
       "21            Kiambu                  1.228973\n",
       "37            Vihiga                  0.564653\n",
       "45           Nyamira                  0.493151"
      ]
     },
     "execution_count": 685,
     "metadata": {},
     "output_type": "execute_result"
    }
   ],
   "source": [
    "# We can now see the counties with the highest crime rate per 10KM squared, eg for Robbery\n",
    "\n",
    "county_info[['County', 'Robbery_rate (per 10KM2)']].sort_values('Robbery_rate (per 10KM2)', ascending= False).head()"
   ]
  },
  {
   "cell_type": "markdown",
   "id": "1ad0890d",
   "metadata": {},
   "source": [
    "We now need to create visualisations for this crime rates for each crime per 10KM squared"
   ]
  },
  {
   "cell_type": "code",
   "execution_count": 296,
   "id": "c3e3c41d",
   "metadata": {},
   "outputs": [],
   "source": [
    "#Create axes for the different graphs\n",
    "\n",
    "axis_y_10KM2_homice_rate = county_info[['County','Homicide_rate (per 10KM2)']].sort_values('Homicide_rate (per 10KM2)', ascending= False).head(10)['Homicide_rate (per 10KM2)']\n",
    "axis_x_10KM2_homice_rate_county = county_info[['County','Homicide_rate (per 10KM2)']].sort_values('Homicide_rate (per 10KM2)', ascending= False).head(10)['County']\n",
    "\n",
    "axis_y_10KM2_other_offense_rate = county_info[['County','other_offence_against_person (per 10KM2)']].sort_values('other_offence_against_person (per 10KM2)', ascending= False).head(10)['other_offence_against_person (per 10KM2)']\n",
    "axis_x_10KM2_other_offense_rate_county = county_info[['County','other_offence_against_person (per 10KM2)']].sort_values('other_offence_against_person (per 10KM2)', ascending= False).head(10)['County']\n",
    "\n",
    "axis_y_10KM2_robbery_rate = county_info[['County', 'Robbery_rate (per 10KM2)']].sort_values('Robbery_rate (per 10KM2)', ascending= False).head(10)['Robbery_rate (per 10KM2)']\n",
    "axis_x_10KM2_robbery_rate_counties = county_info[['County', 'Robbery_rate (per 10KM2)']].sort_values('Robbery_rate (per 10KM2)', ascending= False).head(10)['County']\n",
    "\n",
    "axis_y_10KM2_Stealing_rate = county_info[['County', 'Stealing_rate (per 10KM2)']].sort_values('Stealing_rate (per 10KM2)', ascending= False).head(10)['Stealing_rate (per 10KM2)']\n",
    "axis_x_10KM2_Stealing_rate_counties = county_info[['County', 'Stealing_rate (per 10KM2)']].sort_values('Stealing_rate (per 10KM2)', ascending= False).head(10)['County']\n",
    "\n",
    "axis_y_10KM2_Breaking_rate = county_info[['County','Breaking_rate (per 10KM2)']].sort_values('Breaking_rate (per 10KM2)', ascending= False).head(10)['Breaking_rate (per 10KM2)']\n",
    "axis_x_10KM2_Breaking_rate_county = county_info[['County','Breaking_rate (per 10KM2)']].sort_values('Breaking_rate (per 10KM2)', ascending= False).head(10)['County']\n",
    "\n",
    "axis_y_10KM2_total_crime_rate = county_info[['County','total_crime_rate (per 10KM2)']].sort_values('total_crime_rate (per 10KM2)', ascending= False).head(10)['total_crime_rate (per 10KM2)']\n",
    "axis_x_10KM2_total_crime_rate_county = county_info[['County','total_crime_rate (per 10KM2)']].sort_values('total_crime_rate (per 10KM2)', ascending= False).head(10)['County']"
   ]
  },
  {
   "cell_type": "code",
   "execution_count": 311,
   "id": "995bb1dd",
   "metadata": {
    "scrolled": false
   },
   "outputs": [
    {
     "data": {
      "image/png": "[encoded data removed]",
      "text/plain": [
       "<Figure size 720x2160 with 5 Axes>"
      ]
     },
     "metadata": {
      "needs_background": "light"
     },
     "output_type": "display_data"
    }
   ],
   "source": [
    "#Ploting the points \n",
    "\n",
    "fig, ax =plt.subplots(nrows= 5, ncols=1, figsize=(10,30))\n",
    "ax[0].bar(axis_x_10KM2_homice_rate_county, axis_y_10KM2_homice_rate, color='red')\n",
    "ax[0].set_title('Homicide Rate per 10KM2')\n",
    "ax[0].set_ylabel('Homicide(s) per 10KM2')\n",
    "\n",
    "ax[1].bar(axis_x_other_offense_rate_county, axis_y_other_offense_rate, color='maroon')\n",
    "ax[1].set_title('Rate of other offences against People per 10KM2')\n",
    "ax[1].set_ylabel('Other offence(s) against People per 10KM2')\n",
    "\n",
    "ax[2].bar(axis_x_robbery_rate_counties, axis_y_robbery_rate, color='black')\n",
    "ax[2].set_title('Robbery rate per 10KM2')\n",
    "ax[2].set_ylabel('Robbery(s) per 10KM2')\n",
    "\n",
    "ax[3].bar(axis_x_Stealing_rate_counties, axis_y_Stealing_rate, color='purple')\n",
    "ax[3].set_title('Stealing rate 10KM2')\n",
    "ax[3].set_ylabel('Stealing(s) per 10KM2')\n",
    "\n",
    "ax[4].bar(axis_x_Breaking_rate_county, axis_y_Breaking_rate, color='green')\n",
    "ax[4].set_title('Breaking rate per 10KM2')\n",
    "ax[4].set_ylabel('Breaking(s) per 10KM2')\n",
    "\n",
    "\n",
    "plt.tight_layout()\n",
    "plt.show()\n"
   ]
  },
  {
   "cell_type": "markdown",
   "id": "11157646",
   "metadata": {},
   "source": [
    "As we can see from the graphs, Homicide in Nairobi County is well above the rest while robbery in Kiambu County is also very high compared to the rest."
   ]
  },
  {
   "cell_type": "code",
   "execution_count": 362,
   "id": "4fa9e70e",
   "metadata": {
    "scrolled": false
   },
   "outputs": [
    {
     "data": {
      "image/png": "[encoded data removed]",
      "text/plain": [
       "<Figure size 1296x468 with 1 Axes>"
      ]
     },
     "metadata": {
      "needs_background": "light"
     },
     "output_type": "display_data"
    }
   ],
   "source": [
    "dims = (18,6.5)\n",
    "axis = sns.barplot(x=axis_x_10KM2_total_crime_rate_county, y=axis_y_10KM2_total_crime_rate, data = county_info).set_title('10 highest crime rate per 10000 people') #, kind='bar')\n",
    "axis.figure.set_size_inches(dims)"
   ]
  },
  {
   "cell_type": "markdown",
   "id": "c109c5d6",
   "metadata": {},
   "source": [
    "This is a more understsndable graph. Being the oldest cities in Kenya Nairobi and Mombasa have a very high crime rate per KM2. This is mostly attributed to the city life of crime. Also people are used to Nairobi crimes but be aware the next time you think of holiday destinations and Mombasa is in your plans unless you really know the town avoid it, opt for Kilifi as you can see below it has a very low at just 1.5 crimes per 10KM2 compared to Mombasas which has more than 100 per 10KM2"
   ]
  },
  {
   "cell_type": "code",
   "execution_count": 332,
   "id": "c38d073e",
   "metadata": {},
   "outputs": [
    {
     "data": {
      "text/html": [
       "<div>\n",
       "<style scoped>\n",
       "    .dataframe tbody tr th:only-of-type {\n",
       "        vertical-align: middle;\n",
       "    }\n",
       "\n",
       "    .dataframe tbody tr th {\n",
       "        vertical-align: top;\n",
       "    }\n",
       "\n",
       "    .dataframe thead th {\n",
       "        text-align: right;\n",
       "    }\n",
       "</style>\n",
       "<table border=\"1\" class=\"dataframe\">\n",
       "  <thead>\n",
       "    <tr style=\"text-align: right;\">\n",
       "      <th></th>\n",
       "      <th>County</th>\n",
       "      <th>total_crime_rate (per 10KM2)</th>\n",
       "    </tr>\n",
       "  </thead>\n",
       "  <tbody>\n",
       "    <tr>\n",
       "      <th>2</th>\n",
       "      <td>Kilifi</td>\n",
       "      <td>1.468247</td>\n",
       "    </tr>\n",
       "  </tbody>\n",
       "</table>\n",
       "</div>"
      ],
      "text/plain": [
       "   County  total_crime_rate (per 10KM2)\n",
       "2  Kilifi                      1.468247"
      ]
     },
     "execution_count": 332,
     "metadata": {},
     "output_type": "execute_result"
    }
   ],
   "source": [
    "county_info[county_info['County'] == 'Kilifi'][['County','total_crime_rate (per 10KM2)']]"
   ]
  },
  {
   "cell_type": "markdown",
   "id": "29218d1c",
   "metadata": {},
   "source": [
    "### BHANG POSESSION CASES DISTRIBUTION"
   ]
  },
  {
   "cell_type": "markdown",
   "id": "c54e5a14",
   "metadata": {},
   "source": [
    "#### PER 10000 PEOPLE"
   ]
  },
  {
   "cell_type": "code",
   "execution_count": 346,
   "id": "a4a4f06a",
   "metadata": {},
   "outputs": [],
   "source": [
    "# Create a column for the distribution of possesion of bhang cases per 10000 people\n",
    "pop_dist = county_info['Population(2019 Census)'] / 10000\n",
    "county_info['bhang_per_10000_people'] = county_info['BHANG']/pop_dist"
   ]
  },
  {
   "cell_type": "code",
   "execution_count": 347,
   "id": "6da5f7c6",
   "metadata": {},
   "outputs": [
    {
     "data": {
      "text/html": [
       "<div>\n",
       "<style scoped>\n",
       "    .dataframe tbody tr th:only-of-type {\n",
       "        vertical-align: middle;\n",
       "    }\n",
       "\n",
       "    .dataframe tbody tr th {\n",
       "        vertical-align: top;\n",
       "    }\n",
       "\n",
       "    .dataframe thead th {\n",
       "        text-align: right;\n",
       "    }\n",
       "</style>\n",
       "<table border=\"1\" class=\"dataframe\">\n",
       "  <thead>\n",
       "    <tr style=\"text-align: right;\">\n",
       "      <th></th>\n",
       "      <th>Code</th>\n",
       "      <th>County</th>\n",
       "      <th>Area(km2)</th>\n",
       "      <th>Population(2019 Census)</th>\n",
       "      <th>HOMICIDE</th>\n",
       "      <th>OTHER OFFENCES AGAINST PERSONS</th>\n",
       "      <th>ROBBERY</th>\n",
       "      <th>BREAKINGS</th>\n",
       "      <th>STEALING</th>\n",
       "      <th>GRAND TOTAL CRIME</th>\n",
       "      <th>...</th>\n",
       "      <th>Stealing_rate (per 10,000 people)</th>\n",
       "      <th>Breaking_rate (per 10,000 people)</th>\n",
       "      <th>total_crime_rate (per 10,000 people)</th>\n",
       "      <th>Homicide_rate (per 10KM2)</th>\n",
       "      <th>other_offence_against_person (per 10KM2)</th>\n",
       "      <th>Robbery_rate (per 10KM2)</th>\n",
       "      <th>Stealing_rate (per 10KM2)</th>\n",
       "      <th>Breaking_rate (per 10KM2)</th>\n",
       "      <th>total_crime_rate (per 10KM2)</th>\n",
       "      <th>bhang_per_10000_people</th>\n",
       "    </tr>\n",
       "  </thead>\n",
       "  <tbody>\n",
       "    <tr>\n",
       "      <th>0</th>\n",
       "      <td>1.0</td>\n",
       "      <td>Mombasa (County)</td>\n",
       "      <td>212.5</td>\n",
       "      <td>1208333</td>\n",
       "      <td>25</td>\n",
       "      <td>348</td>\n",
       "      <td>85</td>\n",
       "      <td>119</td>\n",
       "      <td>460</td>\n",
       "      <td>2231</td>\n",
       "      <td>...</td>\n",
       "      <td>3.806898</td>\n",
       "      <td>0.984828</td>\n",
       "      <td>18.463453</td>\n",
       "      <td>1.176471</td>\n",
       "      <td>0.135529</td>\n",
       "      <td>4.000000</td>\n",
       "      <td>21.647059</td>\n",
       "      <td>5.600000</td>\n",
       "      <td>104.988235</td>\n",
       "      <td>1.431725</td>\n",
       "    </tr>\n",
       "    <tr>\n",
       "      <th>1</th>\n",
       "      <td>2.0</td>\n",
       "      <td>Kwale</td>\n",
       "      <td>8270.3</td>\n",
       "      <td>866820</td>\n",
       "      <td>52</td>\n",
       "      <td>243</td>\n",
       "      <td>17</td>\n",
       "      <td>44</td>\n",
       "      <td>101</td>\n",
       "      <td>910</td>\n",
       "      <td>...</td>\n",
       "      <td>1.165178</td>\n",
       "      <td>0.507603</td>\n",
       "      <td>10.498143</td>\n",
       "      <td>0.062876</td>\n",
       "      <td>0.003390</td>\n",
       "      <td>0.020555</td>\n",
       "      <td>0.122124</td>\n",
       "      <td>0.053202</td>\n",
       "      <td>1.100323</td>\n",
       "      <td>0.276874</td>\n",
       "    </tr>\n",
       "    <tr>\n",
       "      <th>2</th>\n",
       "      <td>3.0</td>\n",
       "      <td>Kilifi</td>\n",
       "      <td>12245.9</td>\n",
       "      <td>1453787</td>\n",
       "      <td>124</td>\n",
       "      <td>356</td>\n",
       "      <td>25</td>\n",
       "      <td>95</td>\n",
       "      <td>243</td>\n",
       "      <td>1798</td>\n",
       "      <td>...</td>\n",
       "      <td>1.671497</td>\n",
       "      <td>0.653466</td>\n",
       "      <td>12.367699</td>\n",
       "      <td>0.101258</td>\n",
       "      <td>0.002000</td>\n",
       "      <td>0.020415</td>\n",
       "      <td>0.198434</td>\n",
       "      <td>0.077577</td>\n",
       "      <td>1.468247</td>\n",
       "      <td>0.392079</td>\n",
       "    </tr>\n",
       "    <tr>\n",
       "      <th>3</th>\n",
       "      <td>4.0</td>\n",
       "      <td>Tana River</td>\n",
       "      <td>35375.8</td>\n",
       "      <td>315943</td>\n",
       "      <td>11</td>\n",
       "      <td>129</td>\n",
       "      <td>7</td>\n",
       "      <td>25</td>\n",
       "      <td>43</td>\n",
       "      <td>396</td>\n",
       "      <td>...</td>\n",
       "      <td>1.361005</td>\n",
       "      <td>0.791282</td>\n",
       "      <td>12.533906</td>\n",
       "      <td>0.003109</td>\n",
       "      <td>0.001154</td>\n",
       "      <td>0.001979</td>\n",
       "      <td>0.012155</td>\n",
       "      <td>0.007067</td>\n",
       "      <td>0.111941</td>\n",
       "      <td>1.297702</td>\n",
       "    </tr>\n",
       "    <tr>\n",
       "      <th>4</th>\n",
       "      <td>5.0</td>\n",
       "      <td>Lamu</td>\n",
       "      <td>6497.7</td>\n",
       "      <td>143920</td>\n",
       "      <td>9</td>\n",
       "      <td>103</td>\n",
       "      <td>14</td>\n",
       "      <td>27</td>\n",
       "      <td>44</td>\n",
       "      <td>380</td>\n",
       "      <td>...</td>\n",
       "      <td>3.057254</td>\n",
       "      <td>1.876042</td>\n",
       "      <td>26.403558</td>\n",
       "      <td>0.013851</td>\n",
       "      <td>0.011014</td>\n",
       "      <td>0.021546</td>\n",
       "      <td>0.067716</td>\n",
       "      <td>0.041553</td>\n",
       "      <td>0.584822</td>\n",
       "      <td>1.111729</td>\n",
       "    </tr>\n",
       "  </tbody>\n",
       "</table>\n",
       "<p>5 rows × 24 columns</p>\n",
       "</div>"
      ],
      "text/plain": [
       "   Code            County  Area(km2)  Population(2019 Census)  HOMICIDE  \\\n",
       "0   1.0  Mombasa (County)      212.5                  1208333        25   \n",
       "1   2.0             Kwale     8270.3                   866820        52   \n",
       "2   3.0            Kilifi    12245.9                  1453787       124   \n",
       "3   4.0        Tana River    35375.8                   315943        11   \n",
       "4   5.0              Lamu     6497.7                   143920         9   \n",
       "\n",
       "   OTHER OFFENCES AGAINST PERSONS  ROBBERY  BREAKINGS  STEALING  \\\n",
       "0                             348       85        119       460   \n",
       "1                             243       17         44       101   \n",
       "2                             356       25         95       243   \n",
       "3                             129        7         25        43   \n",
       "4                             103       14         27        44   \n",
       "\n",
       "   GRAND TOTAL CRIME  ...  Stealing_rate (per 10,000 people)  \\\n",
       "0               2231  ...                           3.806898   \n",
       "1                910  ...                           1.165178   \n",
       "2               1798  ...                           1.671497   \n",
       "3                396  ...                           1.361005   \n",
       "4                380  ...                           3.057254   \n",
       "\n",
       "   Breaking_rate (per 10,000 people)  total_crime_rate (per 10,000 people)  \\\n",
       "0                           0.984828                             18.463453   \n",
       "1                           0.507603                             10.498143   \n",
       "2                           0.653466                             12.367699   \n",
       "3                           0.791282                             12.533906   \n",
       "4                           1.876042                             26.403558   \n",
       "\n",
       "   Homicide_rate (per 10KM2)  other_offence_against_person (per 10KM2)  \\\n",
       "0                   1.176471                                  0.135529   \n",
       "1                   0.062876                                  0.003390   \n",
       "2                   0.101258                                  0.002000   \n",
       "3                   0.003109                                  0.001154   \n",
       "4                   0.013851                                  0.011014   \n",
       "\n",
       "   Robbery_rate (per 10KM2)  Stealing_rate (per 10KM2)  \\\n",
       "0                  4.000000                  21.647059   \n",
       "1                  0.020555                   0.122124   \n",
       "2                  0.020415                   0.198434   \n",
       "3                  0.001979                   0.012155   \n",
       "4                  0.021546                   0.067716   \n",
       "\n",
       "   Breaking_rate (per 10KM2)  total_crime_rate (per 10KM2)  \\\n",
       "0                   5.600000                    104.988235   \n",
       "1                   0.053202                      1.100323   \n",
       "2                   0.077577                      1.468247   \n",
       "3                   0.007067                      0.111941   \n",
       "4                   0.041553                      0.584822   \n",
       "\n",
       "   bhang_per_10000_people  \n",
       "0                1.431725  \n",
       "1                0.276874  \n",
       "2                0.392079  \n",
       "3                1.297702  \n",
       "4                1.111729  \n",
       "\n",
       "[5 rows x 24 columns]"
      ]
     },
     "execution_count": 347,
     "metadata": {},
     "output_type": "execute_result"
    }
   ],
   "source": [
    "county_info.head()"
   ]
  },
  {
   "cell_type": "code",
   "execution_count": 363,
   "id": "40b68dc4",
   "metadata": {
    "scrolled": false
   },
   "outputs": [
    {
     "data": {
      "image/png": "[encoded data removed]",
      "text/plain": [
       "<Figure size 1296x468 with 1 Axes>"
      ]
     },
     "metadata": {
      "needs_background": "light"
     },
     "output_type": "display_data"
    }
   ],
   "source": [
    "# creating the visualsation for the distribution of possesion of bhang per 10000 people\n",
    "\n",
    "#axes\n",
    "axis_x_bhang = county_info[['County', 'bhang_per_10000_people']].sort_values('bhang_per_10000_people', ascending=False).head(10)['County']\n",
    "axis_y_bhang = county_info[['County', 'bhang_per_10000_people']].sort_values('bhang_per_10000_people', ascending=False).head(10)['bhang_per_10000_people']\n",
    "\n",
    "#plotting the axes\n",
    "fig_bhang = sns.barplot(x=axis_x_bhang, y=axis_y_bhang, data = county_info).set_title('Bhang possesion distribution per 10000 people')\n",
    "fig_bhang.figure.set_size_inches(dims)"
   ]
  },
  {
   "cell_type": "markdown",
   "id": "32edfe80",
   "metadata": {},
   "source": [
    "Tharaka-Nithi and Muranga have the highest number of persons per 10000 people"
   ]
  },
  {
   "cell_type": "markdown",
   "id": "fa3a3580",
   "metadata": {},
   "source": [
    "#### PER 10KM2"
   ]
  },
  {
   "cell_type": "code",
   "execution_count": 367,
   "id": "e5fc7349",
   "metadata": {},
   "outputs": [],
   "source": [
    "# Create a column for the distribution of possesion of bhang cases per 10km2\n",
    "\n",
    "county_info['bhang_per_10KM2'] = county_info['BHANG']/area_info"
   ]
  },
  {
   "cell_type": "code",
   "execution_count": 370,
   "id": "ad292a81",
   "metadata": {
    "scrolled": false
   },
   "outputs": [
    {
     "data": {
      "image/png": "[encoded data removed]",
      "text/plain": [
       "<Figure size 1296x468 with 1 Axes>"
      ]
     },
     "metadata": {
      "needs_background": "light"
     },
     "output_type": "display_data"
    }
   ],
   "source": [
    "# creating the visualsation for the distribution of possesion of bhang per 10km2\n",
    "\n",
    "#axes\n",
    "axis_x_bhang_km2 = county_info[['County', 'bhang_per_10KM2']].sort_values('bhang_per_10KM2', ascending=False).head(10)['County']\n",
    "axis_y_bhang_km2 = county_info[['County', 'bhang_per_10KM2']].sort_values('bhang_per_10KM2', ascending=False).head(10)['bhang_per_10KM2']\n",
    "\n",
    "#plotting the axes\n",
    "fig_bhang = sns.barplot(x=axis_x_bhang_km2, y=axis_y_bhang_km2, data = county_info).set_title('Bhang possesion distribution per 10KM2')\n",
    "fig_bhang.figure.set_size_inches(dims)"
   ]
  },
  {
   "cell_type": "code",
   "execution_count": 371,
   "id": "9b424d96",
   "metadata": {},
   "outputs": [
    {
     "data": {
      "text/plain": [
       "Index(['Code', 'County', 'Area(km2)', 'Population(2019 Census)', 'HOMICIDE',\n",
       "       'OTHER OFFENCES AGAINST PERSONS', 'ROBBERY', 'BREAKINGS', 'STEALING',\n",
       "       'GRAND TOTAL CRIME', 'BHANG', 'Homicide_rate (per 10,000 people)',\n",
       "       'other_offence_against_person (per 10,000 people)',\n",
       "       'Robbery_rate (per 10,000 people)', 'Stealing_rate (per 10,000 people)',\n",
       "       'Breaking_rate (per 10,000 people)',\n",
       "       'total_crime_rate (per 10,000 people)', 'Homicide_rate (per 10KM2)',\n",
       "       'other_offence_against_person (per 10KM2)', 'Robbery_rate (per 10KM2)',\n",
       "       'Stealing_rate (per 10KM2)', 'Breaking_rate (per 10KM2)',\n",
       "       'total_crime_rate (per 10KM2)', 'bhang_per_10000_people',\n",
       "       'bhang_per_10KM2'],\n",
       "      dtype='object')"
      ]
     },
     "execution_count": 371,
     "metadata": {},
     "output_type": "execute_result"
    }
   ],
   "source": [
    "county_info.columns"
   ]
  },
  {
   "cell_type": "markdown",
   "id": "66910624",
   "metadata": {},
   "source": [
    "Mombasa is surely the Wajackoya Town. It more than doubles the second on the list in the number of bhang possession cases per square area"
   ]
  },
  {
   "cell_type": "markdown",
   "id": "1e2d300d",
   "metadata": {},
   "source": [
    "### CORRELATION OF BHANG POSSESION TO CRIME"
   ]
  },
  {
   "cell_type": "markdown",
   "id": "40ca2a05",
   "metadata": {},
   "source": [
    "First alittle about correlation interpretation\n",
    "- A correlation of -1.0 indicates a perfect negative correlation, and a correlation of 1.0 indicates a perfect positive correlation. If the correlation coefficient is greater than zero, it is a positive relationship. Conversely, if the value is less than zero, it is a negative relationship.\n",
    "\n",
    "- Positive correlation is measured on a 0.1 to 1.0 scale. Weak positive correlation would be in the range of 0.1 to 0.3, moderate positive correlation from 0.3 to 0.5, and strong positive correlation from 0.6 to 1.0. The stronger the positive correlation, the more likely the stocks are to move in the same direction."
   ]
  },
  {
   "cell_type": "markdown",
   "id": "6011a842",
   "metadata": {},
   "source": [
    "#### Correlation of bhang possession cases to total crime rate per 10000 people"
   ]
  },
  {
   "cell_type": "code",
   "execution_count": 449,
   "id": "d82a7030",
   "metadata": {},
   "outputs": [
    {
     "data": {
      "text/html": [
       "<div>\n",
       "<style scoped>\n",
       "    .dataframe tbody tr th:only-of-type {\n",
       "        vertical-align: middle;\n",
       "    }\n",
       "\n",
       "    .dataframe tbody tr th {\n",
       "        vertical-align: top;\n",
       "    }\n",
       "\n",
       "    .dataframe thead th {\n",
       "        text-align: right;\n",
       "    }\n",
       "</style>\n",
       "<table border=\"1\" class=\"dataframe\">\n",
       "  <thead>\n",
       "    <tr style=\"text-align: right;\">\n",
       "      <th></th>\n",
       "      <th>bhang_per_10000_people</th>\n",
       "      <th>total_crime_rate (per 10,000 people)</th>\n",
       "    </tr>\n",
       "  </thead>\n",
       "  <tbody>\n",
       "    <tr>\n",
       "      <th>bhang_per_10000_people</th>\n",
       "      <td>1.000000</td>\n",
       "      <td>0.652731</td>\n",
       "    </tr>\n",
       "    <tr>\n",
       "      <th>total_crime_rate (per 10,000 people)</th>\n",
       "      <td>0.652731</td>\n",
       "      <td>1.000000</td>\n",
       "    </tr>\n",
       "  </tbody>\n",
       "</table>\n",
       "</div>"
      ],
      "text/plain": [
       "                                      bhang_per_10000_people  \\\n",
       "bhang_per_10000_people                              1.000000   \n",
       "total_crime_rate (per 10,000 people)                0.652731   \n",
       "\n",
       "                                      total_crime_rate (per 10,000 people)  \n",
       "bhang_per_10000_people                                            0.652731  \n",
       "total_crime_rate (per 10,000 people)                              1.000000  "
      ]
     },
     "execution_count": 449,
     "metadata": {},
     "output_type": "execute_result"
    }
   ],
   "source": [
    "county_info[['bhang_per_10000_people', 'total_crime_rate (per 10,000 people)']].corr()"
   ]
  },
  {
   "cell_type": "markdown",
   "id": "26880613",
   "metadata": {},
   "source": [
    "With a correlation of 0.65, there is a strong correlation of crime per 10000 people to cases of bhang possession per 10000 people"
   ]
  },
  {
   "cell_type": "markdown",
   "id": "27e7e51a",
   "metadata": {},
   "source": [
    "#### Correlation of bhang possession cases to total crime rate per 10KM2"
   ]
  },
  {
   "cell_type": "code",
   "execution_count": 447,
   "id": "15b6bf5c",
   "metadata": {},
   "outputs": [
    {
     "data": {
      "text/html": [
       "<div>\n",
       "<style scoped>\n",
       "    .dataframe tbody tr th:only-of-type {\n",
       "        vertical-align: middle;\n",
       "    }\n",
       "\n",
       "    .dataframe tbody tr th {\n",
       "        vertical-align: top;\n",
       "    }\n",
       "\n",
       "    .dataframe thead th {\n",
       "        text-align: right;\n",
       "    }\n",
       "</style>\n",
       "<table border=\"1\" class=\"dataframe\">\n",
       "  <thead>\n",
       "    <tr style=\"text-align: right;\">\n",
       "      <th></th>\n",
       "      <th>bhang_per_10KM2</th>\n",
       "      <th>total_crime_rate (per 10KM2)</th>\n",
       "    </tr>\n",
       "  </thead>\n",
       "  <tbody>\n",
       "    <tr>\n",
       "      <th>bhang_per_10KM2</th>\n",
       "      <td>1.000000</td>\n",
       "      <td>0.913643</td>\n",
       "    </tr>\n",
       "    <tr>\n",
       "      <th>total_crime_rate (per 10KM2)</th>\n",
       "      <td>0.913643</td>\n",
       "      <td>1.000000</td>\n",
       "    </tr>\n",
       "  </tbody>\n",
       "</table>\n",
       "</div>"
      ],
      "text/plain": [
       "                              bhang_per_10KM2  total_crime_rate (per 10KM2)\n",
       "bhang_per_10KM2                      1.000000                      0.913643\n",
       "total_crime_rate (per 10KM2)         0.913643                      1.000000"
      ]
     },
     "execution_count": 447,
     "metadata": {},
     "output_type": "execute_result"
    }
   ],
   "source": [
    "county_info[['bhang_per_10KM2', 'total_crime_rate (per 10KM2)']].corr()"
   ]
  },
  {
   "cell_type": "markdown",
   "id": "e7a6c687",
   "metadata": {},
   "source": [
    "With a correlation of 0.9, there is a **very** strong correlation of crime per 10km2 to cases of bhang possession cases per 10km2"
   ]
  },
  {
   "cell_type": "markdown",
   "id": "b8a69cdd",
   "metadata": {},
   "source": [
    "#### Correlation of bhang possession cases to total crime"
   ]
  },
  {
   "cell_type": "code",
   "execution_count": 444,
   "id": "38dffb35",
   "metadata": {},
   "outputs": [
    {
     "data": {
      "text/html": [
       "<div>\n",
       "<style scoped>\n",
       "    .dataframe tbody tr th:only-of-type {\n",
       "        vertical-align: middle;\n",
       "    }\n",
       "\n",
       "    .dataframe tbody tr th {\n",
       "        vertical-align: top;\n",
       "    }\n",
       "\n",
       "    .dataframe thead th {\n",
       "        text-align: right;\n",
       "    }\n",
       "</style>\n",
       "<table border=\"1\" class=\"dataframe\">\n",
       "  <thead>\n",
       "    <tr style=\"text-align: right;\">\n",
       "      <th></th>\n",
       "      <th>BHANG</th>\n",
       "      <th>GRAND TOTAL CRIME</th>\n",
       "    </tr>\n",
       "  </thead>\n",
       "  <tbody>\n",
       "    <tr>\n",
       "      <th>BHANG</th>\n",
       "      <td>1.000000</td>\n",
       "      <td>0.691434</td>\n",
       "    </tr>\n",
       "    <tr>\n",
       "      <th>GRAND TOTAL CRIME</th>\n",
       "      <td>0.691434</td>\n",
       "      <td>1.000000</td>\n",
       "    </tr>\n",
       "  </tbody>\n",
       "</table>\n",
       "</div>"
      ],
      "text/plain": [
       "                      BHANG  GRAND TOTAL CRIME\n",
       "BHANG              1.000000           0.691434\n",
       "GRAND TOTAL CRIME  0.691434           1.000000"
      ]
     },
     "execution_count": 444,
     "metadata": {},
     "output_type": "execute_result"
    }
   ],
   "source": [
    "county_info[['BHANG', 'GRAND TOTAL CRIME']].corr()"
   ]
  },
  {
   "cell_type": "markdown",
   "id": "7f82b9b0",
   "metadata": {},
   "source": [
    "With a correlation of 0.7, there is a **rather** strong correlation of total crime to cases of bhang possession cases"
   ]
  },
  {
   "cell_type": "markdown",
   "id": "9f4992cd",
   "metadata": {},
   "source": [
    "### REGRESSION ANALYSIS OF BHANG POSSESION TO CRIME"
   ]
  },
  {
   "cell_type": "markdown",
   "id": "efc36388",
   "metadata": {},
   "source": [
    "First a little about regression\n",
    "- However, while causation and correlation can exist at the same time, correlation does not imply causation. Causation explicitly applies to cases where action A causes outcome B. On the other hand, correlation is simply a relationship. Action A relates to Action B—but one event doesn’t necessarily cause the other event to happen. Therefore lets look at regression which is a better metric for causation."
   ]
  },
  {
   "cell_type": "code",
   "execution_count": 454,
   "id": "1ea7e6f7",
   "metadata": {},
   "outputs": [
    {
     "data": {
      "text/plain": [
       "<seaborn.axisgrid.FacetGrid at 0x19134adfa90>"
      ]
     },
     "execution_count": 454,
     "metadata": {},
     "output_type": "execute_result"
    },
    {
     "data": {
      "image/png": "[encoded data removed]",
      "text/plain": [
       "<Figure size 360x360 with 1 Axes>"
      ]
     },
     "metadata": {
      "needs_background": "light"
     },
     "output_type": "display_data"
    }
   ],
   "source": [
    "#first we check the distribution of the variables\n",
    "\n",
    "sns.displot(county_info['GRAND TOTAL CRIME'], kde=True)"
   ]
  },
  {
   "cell_type": "markdown",
   "id": "46ee3958",
   "metadata": {},
   "source": [
    "This distribution graph is very skewed, for a proper regression analysis we will have to transform it using logs"
   ]
  },
  {
   "cell_type": "code",
   "execution_count": 455,
   "id": "41a7b54a",
   "metadata": {
    "scrolled": false
   },
   "outputs": [
    {
     "data": {
      "text/plain": [
       "<seaborn.axisgrid.FacetGrid at 0x191349a0910>"
      ]
     },
     "execution_count": 455,
     "metadata": {},
     "output_type": "execute_result"
    },
    {
     "data": {
      "image/png": "[encoded data removed]",
      "text/plain": [
       "<Figure size 360x360 with 1 Axes>"
      ]
     },
     "metadata": {
      "needs_background": "light"
     },
     "output_type": "display_data"
    }
   ],
   "source": [
    "sns.displot(county_info['BHANG'], kde=True)"
   ]
  },
  {
   "cell_type": "markdown",
   "id": "e968ba9d",
   "metadata": {},
   "source": [
    "This distribution graph is very skewed, for a proper regression analysis we will have to transform it using logs"
   ]
  },
  {
   "cell_type": "code",
   "execution_count": 698,
   "id": "7d9641c4",
   "metadata": {},
   "outputs": [
    {
     "data": {
      "text/plain": [
       "<seaborn.axisgrid.FacetGrid at 0x19134790910>"
      ]
     },
     "execution_count": 698,
     "metadata": {},
     "output_type": "execute_result"
    },
    {
     "data": {
      "image/png": "[encoded data removed]",
      "text/plain": [
       "<Figure size 360x360 with 1 Axes>"
      ]
     },
     "metadata": {
      "needs_background": "light"
     },
     "output_type": "display_data"
    }
   ],
   "source": [
    "sns.displot(county_info['Area(km2)'], kde=True)"
   ]
  },
  {
   "cell_type": "markdown",
   "id": "1f6b507d",
   "metadata": {},
   "source": [
    "This distribution graph is very skewed, for a proper regression analysis we will have to transform it using logs"
   ]
  },
  {
   "cell_type": "code",
   "execution_count": 699,
   "id": "0ae3e71e",
   "metadata": {},
   "outputs": [
    {
     "data": {
      "text/plain": [
       "<seaborn.axisgrid.FacetGrid at 0x19133d5ab80>"
      ]
     },
     "execution_count": 699,
     "metadata": {},
     "output_type": "execute_result"
    },
    {
     "data": {
      "image/png": "[encoded data removed]",
      "text/plain": [
       "<Figure size 360x360 with 1 Axes>"
      ]
     },
     "metadata": {
      "needs_background": "light"
     },
     "output_type": "display_data"
    }
   ],
   "source": [
    "sns.displot(county_info['Population(2019 Census)'], kde=True)"
   ]
  },
  {
   "cell_type": "markdown",
   "id": "cb963258",
   "metadata": {},
   "source": [
    "This distribution graph is very skewed, for a proper regression analysis we will have to transform it using logs"
   ]
  },
  {
   "cell_type": "code",
   "execution_count": 693,
   "id": "26935d5c",
   "metadata": {},
   "outputs": [],
   "source": [
    "county_info['log_BHANG'] = np.log(county_info['BHANG'])\n",
    "county_info['log_GRAND TOTAL CRIME'] = np.log(county_info['GRAND TOTAL CRIME'])\n",
    "county_info['log_Area(km2)'] = np.log(county_info['Area(km2)'])\n",
    "county_info['log_Population(2019 Census)'] = np.log(county_info['Population(2019 Census)'])\n",
    "\n"
   ]
  },
  {
   "cell_type": "code",
   "execution_count": 469,
   "id": "e9e45d92",
   "metadata": {},
   "outputs": [
    {
     "data": {
      "text/plain": [
       "<seaborn.axisgrid.FacetGrid at 0x1913ab37880>"
      ]
     },
     "execution_count": 469,
     "metadata": {},
     "output_type": "execute_result"
    },
    {
     "data": {
      "image/png": "[encoded data removed]",
      "text/plain": [
       "<Figure size 360x360 with 1 Axes>"
      ]
     },
     "metadata": {
      "needs_background": "light"
     },
     "output_type": "display_data"
    }
   ],
   "source": [
    "sns.displot(county_info['log_BHANG'], kde=True)"
   ]
  },
  {
   "cell_type": "code",
   "execution_count": 689,
   "id": "ee7e9eca",
   "metadata": {},
   "outputs": [
    {
     "data": {
      "text/plain": [
       "<seaborn.axisgrid.FacetGrid at 0x19136094250>"
      ]
     },
     "execution_count": 689,
     "metadata": {},
     "output_type": "execute_result"
    },
    {
     "data": {
      "image/png": "[encoded data removed]",
      "text/plain": [
       "<Figure size 360x360 with 1 Axes>"
      ]
     },
     "metadata": {
      "needs_background": "light"
     },
     "output_type": "display_data"
    }
   ],
   "source": [
    "sns.displot(county_info['log_GRAND TOTAL CRIME'], kde=True)"
   ]
  },
  {
   "cell_type": "code",
   "execution_count": 696,
   "id": "d562214f",
   "metadata": {},
   "outputs": [
    {
     "data": {
      "text/plain": [
       "<seaborn.axisgrid.FacetGrid at 0x19130a40d30>"
      ]
     },
     "execution_count": 696,
     "metadata": {},
     "output_type": "execute_result"
    },
    {
     "data": {
      "image/png": "[encoded data removed]",
      "text/plain": [
       "<Figure size 360x360 with 1 Axes>"
      ]
     },
     "metadata": {
      "needs_background": "light"
     },
     "output_type": "display_data"
    }
   ],
   "source": [
    "sns.displot(county_info['log_Area(km2)'], kde=True)"
   ]
  },
  {
   "cell_type": "code",
   "execution_count": 697,
   "id": "e3844158",
   "metadata": {},
   "outputs": [
    {
     "data": {
      "text/plain": [
       "<seaborn.axisgrid.FacetGrid at 0x191313799d0>"
      ]
     },
     "execution_count": 697,
     "metadata": {},
     "output_type": "execute_result"
    },
    {
     "data": {
      "image/png": "[encoded data removed]",
      "text/plain": [
       "<Figure size 360x360 with 1 Axes>"
      ]
     },
     "metadata": {
      "needs_background": "light"
     },
     "output_type": "display_data"
    }
   ],
   "source": [
    "sns.displot(county_info['log_Population(2019 Census)'], kde=True)"
   ]
  },
  {
   "cell_type": "markdown",
   "id": "fd578c2e",
   "metadata": {},
   "source": [
    "***Now that we have normalised all our skewed graphs using the logarithmic method, now we undertake the regression***"
   ]
  },
  {
   "cell_type": "markdown",
   "id": "a6d0800a",
   "metadata": {},
   "source": [
    "#### Regressing total bhang possesion cases with total crime"
   ]
  },
  {
   "cell_type": "code",
   "execution_count": 475,
   "id": "f320e006",
   "metadata": {},
   "outputs": [
    {
     "data": {
      "text/plain": [
       "Index(['Code', 'County', 'Area(km2)', 'Population(2019 Census)', 'HOMICIDE',\n",
       "       'OTHER OFFENCES AGAINST PERSONS', 'ROBBERY', 'BREAKINGS', 'STEALING',\n",
       "       'GRAND TOTAL CRIME', 'BHANG', 'Homicide_rate (per 10,000 people)',\n",
       "       'other_offence_against_person (per 10,000 people)',\n",
       "       'Robbery_rate (per 10,000 people)', 'Stealing_rate (per 10,000 people)',\n",
       "       'Breaking_rate (per 10,000 people)',\n",
       "       'total_crime_rate (per 10,000 people)', 'Homicide_rate (per 10KM2)',\n",
       "       'other_offence_against_person (per 10KM2)', 'Robbery_rate (per 10KM2)',\n",
       "       'Stealing_rate (per 10KM2)', 'Breaking_rate (per 10KM2)',\n",
       "       'total_crime_rate (per 10KM2)', 'bhang_per_10000_people',\n",
       "       'bhang_per_10KM2', 'log_BHANG', 'log_GRAND TOTAL CRIME',\n",
       "       'log_total_crime_rate (per 10KM2)', 'log_bhang_per_10000_people',\n",
       "       'log_bhang_per_10KM2'],\n",
       "      dtype='object')"
      ]
     },
     "execution_count": 475,
     "metadata": {},
     "output_type": "execute_result"
    }
   ],
   "source": [
    "county_info.columns"
   ]
  },
  {
   "cell_type": "code",
   "execution_count": 509,
   "id": "20e51dbc",
   "metadata": {
    "scrolled": false
   },
   "outputs": [
    {
     "data": {
      "text/plain": [
       "<seaborn.axisgrid.JointGrid at 0x191341d9d30>"
      ]
     },
     "execution_count": 509,
     "metadata": {},
     "output_type": "execute_result"
    },
    {
     "data": {
      "image/png": "[encoded data removed]",
      "text/plain": [
       "<Figure size 432x432 with 3 Axes>"
      ]
     },
     "metadata": {
      "needs_background": "light"
     },
     "output_type": "display_data"
    }
   ],
   "source": [
    "sns.jointplot(x='log_BHANG', y='log_GRAND TOTAL CRIME', data=county_info, kind='reg')"
   ]
  },
  {
   "cell_type": "markdown",
   "id": "f80f1ae7",
   "metadata": {},
   "source": [
    "This regression line shows a positive regression relationship between Bhang and the total crime.   \n",
    "Now we use the scikit-learn linear model to see if we can predict total crime using bhang cases"
   ]
  },
  {
   "cell_type": "code",
   "execution_count": 700,
   "id": "6230ecb9",
   "metadata": {},
   "outputs": [],
   "source": [
    "X = county_info[['log_BHANG', 'log_Area(km2)', 'log_Population(2019 Census)' ]].to_numpy()\n",
    "y = county_info['log_GRAND TOTAL CRIME'].to_numpy()"
   ]
  },
  {
   "cell_type": "markdown",
   "id": "2d11bd14",
   "metadata": {},
   "source": [
    "We convert the data frames to numpy arrays to prevent the warnig below    \n",
    "***(UserWarning: X does not have valid feature names, but IsolationForest was fitted with feature names warnings.warn())***"
   ]
  },
  {
   "cell_type": "code",
   "execution_count": 701,
   "id": "f9aa4fe5",
   "metadata": {},
   "outputs": [
    {
     "data": {
      "text/plain": [
       "LinearRegression()"
      ]
     },
     "execution_count": 701,
     "metadata": {},
     "output_type": "execute_result"
    }
   ],
   "source": [
    "regr = linear_model.LinearRegression()\n",
    "regr.fit(X, y)"
   ]
  },
  {
   "cell_type": "code",
   "execution_count": 725,
   "id": "bde3c64c",
   "metadata": {},
   "outputs": [],
   "source": [
    "# we use the the np.exp() to help us reverse the logarithm expression. We also use np.round() to round of the decimal places\n",
    "def crime_predictor(bhang_cases, area_km2, population ):\n",
    "    \n",
    "    \n",
    "    n = np.log(bhang_cases)\n",
    "    a = np.log(area_km2)\n",
    "    b = np.log(population)\n",
    "\n",
    "    predicted_Crime = regr.predict([[n,a,b]])\n",
    "    print(f'{np.exp(n).round(decimals=0)} Marijuana possesion cases in a {np.exp(a).round(decimals=0)} KM squared area, with a population of {np.exp(b).round(decimals=False)} people leads to a {np.exp(predicted_Crime).round(decimals=1)}  total crime cases',)"
   ]
  },
  {
   "cell_type": "code",
   "execution_count": 726,
   "id": "04a45b98",
   "metadata": {},
   "outputs": [
    {
     "name": "stdout",
     "output_type": "stream",
     "text": [
      "41.0 Marijuana possesion cases in a 35376.0 KM squared area, with a population of 315943.0 people leads to a [467.]  total crime cases\n"
     ]
    }
   ],
   "source": [
    "crime_predictor(41, 35375.8, 315943)"
   ]
  },
  {
   "cell_type": "markdown",
   "id": "e62e2322",
   "metadata": {},
   "source": [
    "This data has some recemblance to the data itself as seen below"
   ]
  },
  {
   "cell_type": "code",
   "execution_count": 714,
   "id": "89542bb0",
   "metadata": {},
   "outputs": [
    {
     "data": {
      "text/html": [
       "<div>\n",
       "<style scoped>\n",
       "    .dataframe tbody tr th:only-of-type {\n",
       "        vertical-align: middle;\n",
       "    }\n",
       "\n",
       "    .dataframe tbody tr th {\n",
       "        vertical-align: top;\n",
       "    }\n",
       "\n",
       "    .dataframe thead th {\n",
       "        text-align: right;\n",
       "    }\n",
       "</style>\n",
       "<table border=\"1\" class=\"dataframe\">\n",
       "  <thead>\n",
       "    <tr style=\"text-align: right;\">\n",
       "      <th></th>\n",
       "      <th>County</th>\n",
       "      <th>BHANG</th>\n",
       "      <th>Area(km2)</th>\n",
       "      <th>Population(2019 Census)</th>\n",
       "      <th>GRAND TOTAL CRIME</th>\n",
       "    </tr>\n",
       "  </thead>\n",
       "  <tbody>\n",
       "    <tr>\n",
       "      <th>0</th>\n",
       "      <td>Mombasa (County)</td>\n",
       "      <td>173</td>\n",
       "      <td>212.5</td>\n",
       "      <td>1208333</td>\n",
       "      <td>2231</td>\n",
       "    </tr>\n",
       "    <tr>\n",
       "      <th>1</th>\n",
       "      <td>Kwale</td>\n",
       "      <td>24</td>\n",
       "      <td>8270.3</td>\n",
       "      <td>866820</td>\n",
       "      <td>910</td>\n",
       "    </tr>\n",
       "    <tr>\n",
       "      <th>2</th>\n",
       "      <td>Kilifi</td>\n",
       "      <td>57</td>\n",
       "      <td>12245.9</td>\n",
       "      <td>1453787</td>\n",
       "      <td>1798</td>\n",
       "    </tr>\n",
       "    <tr>\n",
       "      <th>3</th>\n",
       "      <td>Tana River</td>\n",
       "      <td>41</td>\n",
       "      <td>35375.8</td>\n",
       "      <td>315943</td>\n",
       "      <td>396</td>\n",
       "    </tr>\n",
       "    <tr>\n",
       "      <th>4</th>\n",
       "      <td>Lamu</td>\n",
       "      <td>16</td>\n",
       "      <td>6497.7</td>\n",
       "      <td>143920</td>\n",
       "      <td>380</td>\n",
       "    </tr>\n",
       "    <tr>\n",
       "      <th>5</th>\n",
       "      <td>Taita–Taveta</td>\n",
       "      <td>53</td>\n",
       "      <td>17083.9</td>\n",
       "      <td>340671</td>\n",
       "      <td>863</td>\n",
       "    </tr>\n",
       "    <tr>\n",
       "      <th>6</th>\n",
       "      <td>Garissa</td>\n",
       "      <td>19</td>\n",
       "      <td>45720.2</td>\n",
       "      <td>841353</td>\n",
       "      <td>498</td>\n",
       "    </tr>\n",
       "    <tr>\n",
       "      <th>7</th>\n",
       "      <td>Wajir</td>\n",
       "      <td>20</td>\n",
       "      <td>55840.6</td>\n",
       "      <td>781263</td>\n",
       "      <td>243</td>\n",
       "    </tr>\n",
       "    <tr>\n",
       "      <th>8</th>\n",
       "      <td>Mandera</td>\n",
       "      <td>22</td>\n",
       "      <td>25797.7</td>\n",
       "      <td>867457</td>\n",
       "      <td>305</td>\n",
       "    </tr>\n",
       "    <tr>\n",
       "      <th>9</th>\n",
       "      <td>Marsabit</td>\n",
       "      <td>43</td>\n",
       "      <td>66923.1</td>\n",
       "      <td>459785</td>\n",
       "      <td>621</td>\n",
       "    </tr>\n",
       "    <tr>\n",
       "      <th>10</th>\n",
       "      <td>Isiolo</td>\n",
       "      <td>12</td>\n",
       "      <td>25336.1</td>\n",
       "      <td>268002</td>\n",
       "      <td>431</td>\n",
       "    </tr>\n",
       "    <tr>\n",
       "      <th>11</th>\n",
       "      <td>Meru</td>\n",
       "      <td>104</td>\n",
       "      <td>7003.1</td>\n",
       "      <td>1545714</td>\n",
       "      <td>4163</td>\n",
       "    </tr>\n",
       "    <tr>\n",
       "      <th>12</th>\n",
       "      <td>Tharaka-Nithi</td>\n",
       "      <td>91</td>\n",
       "      <td>2609.5</td>\n",
       "      <td>393177</td>\n",
       "      <td>925</td>\n",
       "    </tr>\n",
       "    <tr>\n",
       "      <th>13</th>\n",
       "      <td>Embu</td>\n",
       "      <td>81</td>\n",
       "      <td>2555.9</td>\n",
       "      <td>608599</td>\n",
       "      <td>1528</td>\n",
       "    </tr>\n",
       "    <tr>\n",
       "      <th>14</th>\n",
       "      <td>Kitui</td>\n",
       "      <td>36</td>\n",
       "      <td>24385.1</td>\n",
       "      <td>1136187</td>\n",
       "      <td>1716</td>\n",
       "    </tr>\n",
       "  </tbody>\n",
       "</table>\n",
       "</div>"
      ],
      "text/plain": [
       "              County  BHANG  Area(km2)  Population(2019 Census)  \\\n",
       "0   Mombasa (County)    173      212.5                  1208333   \n",
       "1              Kwale     24     8270.3                   866820   \n",
       "2             Kilifi     57    12245.9                  1453787   \n",
       "3         Tana River     41    35375.8                   315943   \n",
       "4               Lamu     16     6497.7                   143920   \n",
       "5       Taita–Taveta     53    17083.9                   340671   \n",
       "6            Garissa     19    45720.2                   841353   \n",
       "7              Wajir     20    55840.6                   781263   \n",
       "8            Mandera     22    25797.7                   867457   \n",
       "9           Marsabit     43    66923.1                   459785   \n",
       "10            Isiolo     12    25336.1                   268002   \n",
       "11              Meru    104     7003.1                  1545714   \n",
       "12     Tharaka-Nithi     91     2609.5                   393177   \n",
       "13              Embu     81     2555.9                   608599   \n",
       "14             Kitui     36    24385.1                  1136187   \n",
       "\n",
       "    GRAND TOTAL CRIME  \n",
       "0                2231  \n",
       "1                 910  \n",
       "2                1798  \n",
       "3                 396  \n",
       "4                 380  \n",
       "5                 863  \n",
       "6                 498  \n",
       "7                 243  \n",
       "8                 305  \n",
       "9                 621  \n",
       "10                431  \n",
       "11               4163  \n",
       "12                925  \n",
       "13               1528  \n",
       "14               1716  "
      ]
     },
     "execution_count": 714,
     "metadata": {},
     "output_type": "execute_result"
    }
   ],
   "source": [
    "county_info[['County', 'BHANG','Area(km2)','Population(2019 Census)' , 'GRAND TOTAL CRIME']].head(15)"
   ]
  },
  {
   "cell_type": "markdown",
   "id": "fa727a11",
   "metadata": {},
   "source": [
    "## **Thank you for getting to the end**"
   ]
  },
  {
   "cell_type": "code",
   "execution_count": 646,
   "id": "7e99436e",
   "metadata": {},
   "outputs": [],
   "source": []
  },
  {
   "cell_type": "code",
   "execution_count": null,
   "id": "991706f3",
   "metadata": {},
   "outputs": [],
   "source": []
  },
  {
   "cell_type": "code",
   "execution_count": 727,
   "id": "e0bcb4f2",
   "metadata": {},
   "outputs": [
    {
     "name": "stdout",
     "output_type": "stream",
     "text": [
      "100.0 Marijuana possesion cases in a 250.0 KM squared area, with a population of 300000.0 people leads to a [1152.2]  total crime cases\n"
     ]
    }
   ],
   "source": [
    "\n",
    "\n",
    "crime_predictor(100, 250, 300000)\n",
    "\n"
   ]
  },
  {
   "cell_type": "code",
   "execution_count": null,
   "id": "199e2cd2",
   "metadata": {},
   "outputs": [],
   "source": []
  },
  {
   "cell_type": "code",
   "execution_count": null,
   "id": "291e145c",
   "metadata": {},
   "outputs": [],
   "source": []
  },
  {
   "cell_type": "code",
   "execution_count": null,
   "id": "50f71131",
   "metadata": {},
   "outputs": [],
   "source": []
  },
  {
   "cell_type": "code",
   "execution_count": null,
   "id": "46b777a1",
   "metadata": {},
   "outputs": [],
   "source": []
  },
  {
   "cell_type": "code",
   "execution_count": null,
   "id": "2048edaa",
   "metadata": {},
   "outputs": [],
   "source": []
  },
  {
   "cell_type": "code",
   "execution_count": null,
   "id": "a671c26a",
   "metadata": {},
   "outputs": [],
   "source": []
  }
 ],
 "metadata": {
  "kernelspec": {
   "display_name": "Python 3 (ipykernel)",
   "language": "python",
   "name": "python3"
  },
  "language_info": {
   "codemirror_mode": {
    "name": "ipython",
    "version": 3
   },
   "file_extension": ".py",
   "mimetype": "text/x-python",
   "name": "python",
   "nbconvert_exporter": "python",
   "pygments_lexer": "ipython3",
   "version": "3.9.12"
  }
 },
 "nbformat": 4,
 "nbformat_minor": 5
}
